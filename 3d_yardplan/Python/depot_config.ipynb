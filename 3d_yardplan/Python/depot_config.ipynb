{
 "cells": [
  {
   "cell_type": "code",
   "execution_count": 17,
   "metadata": {},
   "outputs": [],
   "source": [
    "import sys\n",
    "sys.path.append(\"/Users/lochuynhquang/Documents/GPG_3D_yardplan/yardplan_creator\")\n",
    "from gpg import *\n",
    "\n",
    "\n",
    "depot_name = \"Tan Binh e-depot\"\n",
    "outfile = \"../data/etd.json\""
   ]
  },
  {
   "cell_type": "code",
   "execution_count": 18,
   "metadata": {},
   "outputs": [],
   "source": [
    "etd_layout = Layout(\"General\",\"../data/etd_ground.svg\")\n",
    "etd_layout.scale(cox=3, coy=3)\n",
    "etd_layout.translate(-400, -1700)\n",
    "# etd_layout.translate(2)\n",
    "\n",
    "# add area here\n",
    "# Area_A = Area(\"A\", etd_layout.shape[1].seq[6].x, etd_layout.shape[1].seq[6].y, x_flip=True)\n",
    "# Area_B = Area(\"B\", etd_layout.shape[2].seq[4].x, etd_layout.shape[2].seq[4].y, x_flip=True)\n",
    "# Area_C = Area(\"C\", etd_layout.shape[3].seq[0].x, etd_layout.shape[3].seq[0].y, angle=0.02583087292951608, offsetX=-42, offsetY=16)\n",
    "# Area_E = Area(\"D\", etd_layout.shape[5].seq[1].x, etd_layout.shape[5].seq[1].y, angle=0.05235987755982988, offsetX=52, offsetY=5)\n",
    "# Area_SC = Area(\"SC\", etd_layout.shape[4].seq[1].x, etd_layout.shape[4].seq[1].y, angle=0.05235987755982988)\n",
    "# Area_F = Area(\"F\", etd_layout.shape[6].seq[5].x, etd_layout.shape[6].seq[5].y, angle=0.05235987755982988, offsetX=80, offsetY=8)\n",
    "\n",
    "\n",
    "# add warehouse here\n",
    "wh1 = House(0, \"Kho 1\", etd_layout.shape[7],0,2,200,0.05235987755982988)\n",
    "wh2 = House(0, \"kho 2\", etd_layout.shape[8],2,0, 200, 0.05235987755982988)\n",
    "wh3 = House(1, \"Nha Kho\", etd_layout.shape[9], 3,1,100,0.05235987755982988)\n",
    "ruaCont = House(2, \"Rua container\", etd_layout.shape[10],3,1,20, offsetX=34, offsetY=-74)\n",
    "\n",
    "etd = Depot(\"etd\", etd_layout, area=[], house=[wh1, wh2, wh3, ruaCont],container_scale=4.2)"
   ]
  },
  {
   "cell_type": "code",
   "execution_count": 19,
   "metadata": {},
   "outputs": [],
   "source": [
    "\n",
    "jn = (depotEncoder().encode(etd))\n",
    "ofile = open(outfile, \"w\")\n",
    "ofile.write(jn)\n",
    "ofile.close()"
   ]
  }
 ],
 "metadata": {
  "kernelspec": {
   "display_name": "Python 3.10.4 ('base')",
   "language": "python",
   "name": "python3"
  },
  "language_info": {
   "codemirror_mode": {
    "name": "ipython",
    "version": 3
   },
   "file_extension": ".py",
   "mimetype": "text/x-python",
   "name": "python",
   "nbconvert_exporter": "python",
   "pygments_lexer": "ipython3",
   "version": "3.10.4"
  },
  "orig_nbformat": 4,
  "vscode": {
   "interpreter": {
    "hash": "3b392867d34c15fd81efc0e6e696e723f38c9c666be2e1ec9dc6fdb1e725f84e"
   }
  }
 },
 "nbformat": 4,
 "nbformat_minor": 2
}
