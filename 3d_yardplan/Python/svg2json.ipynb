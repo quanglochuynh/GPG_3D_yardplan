{
 "cells": [
  {
   "cell_type": "code",
   "execution_count": 1,
   "metadata": {},
   "outputs": [],
   "source": [
    "infile = \"data/tbd_ground.svg\"\n",
    "outfile = \"data/tbd_ground.json\""
   ]
  },
  {
   "cell_type": "code",
   "execution_count": 2,
   "metadata": {},
   "outputs": [
    {
     "name": "stdout",
     "output_type": "stream",
     "text": [
      "<svg xmlns=\"http://www.w3.org/2000/svg\" width=\"551\" height=\"1017\" viewBox=\"0 0 551 1017\">\n",
      "  <defs>\n",
      "    <style>\n",
      "      .a {\n",
      "        fill: none;\n",
      "      }\n",
      "\n",
      "      .a, .b {\n",
      "        stroke: #000;\n",
      "        stroke-miterlimit: 10;\n",
      "      }\n",
      "\n",
      "      .b {\n",
      "        fill: #fff;\n",
      "      }\n",
      "    </style>\n",
      "  </defs>\n",
      "  <polygon class=\"a\" points=\"99 60 100 123 39 138 1 169 1 528 13 966 22 966 24 992 321 1017 369 1015 365 823 523 825 496 568 549 327 551 1 119 11 117 60 99 60\"/>\n",
      "  <polygon class=\"a\" points=\"450 124 451 205 70 205 70 137 100 137 99 125 450 124\"/>\n",
      "  <polygon class=\"a\" points=\"451 263 451 388 70 388 70 263 451 263\"/>\n",
      "  <polygon class=\"a\" points=\"499 496 384 499 382 443 498 439 499 496\"/>\n",
      "  <polygon class=\"a\" points=\"279 457 282 497 65 509 62 468 279 457\"/>\n",
      "  <polygon class=\"a\" points=\"316 678 323 838 61 850 53 691 316 678\"/>\n",
      "  <polygon class=\"a\" points=\"325 898 35 911 38 991 126 988 127 1000 215 995 216 1007 272 1004 331 1001 325 898\"/>\n",
      "  <polygon class=\"a\" points=\"329 623 58 636 52 522 324 509 329 623\"/>\n",
      "  <polygon class=\"a\" points=\"368 511 382 810 496 805 485 505 368 511\"/>\n",
      "  <polygon class=\"b\" points=\"336 6 186 10 188 57 338 51 336 6\"/>\n",
      "</svg>\n",
      "\n"
     ]
    }
   ],
   "source": [
    "file = open(infile, \"r\")\n",
    "str = file.read()\n",
    "print(str)"
   ]
  },
  {
   "cell_type": "code",
   "execution_count": 3,
   "metadata": {},
   "outputs": [],
   "source": [
    "class Point:\n",
    "    def __init__(self,x,y) -> None:\n",
    "        self.x = x\n",
    "        self.y = y\n",
    "    \n",
    "    def translate(self, dx=0, dy=0):\n",
    "        self.x += dx\n",
    "        self.y += dy\n",
    "\n",
    "    def scale(self, coef):\n",
    "        self.x *= coef\n",
    "        self.y *= coef\n",
    "\n",
    "class Shape:\n",
    "    def __init__(self, seq) -> None:\n",
    "        self.seq = seq\n",
    "        self.length = len(seq)"
   ]
  },
  {
   "cell_type": "code",
   "execution_count": 4,
   "metadata": {},
   "outputs": [
    {
     "name": "stdout",
     "output_type": "stream",
     "text": [
      "[99, 100, 39, 1, 1, 13, 22, 24, 321, 369, 365, 523, 496, 549, 551, 119, 117, 99]\n",
      "[60, 123, 138, 169, 528, 966, 966, 992, 1017, 1015, 823, 825, 568, 327, 1, 11, 60, 60]\n",
      "[450, 451, 70, 70, 100, 99, 450]\n",
      "[124, 205, 205, 137, 137, 125, 124]\n",
      "[451, 451, 70, 70, 451]\n",
      "[263, 388, 388, 263, 263]\n",
      "[499, 384, 382, 498, 499]\n",
      "[496, 499, 443, 439, 496]\n",
      "[279, 282, 65, 62, 279]\n",
      "[457, 497, 509, 468, 457]\n",
      "[316, 323, 61, 53, 316]\n",
      "[678, 838, 850, 691, 678]\n",
      "[325, 35, 38, 126, 127, 215, 216, 272, 331, 325]\n",
      "[898, 911, 991, 988, 1000, 995, 1007, 1004, 1001, 898]\n",
      "[329, 58, 52, 324, 329]\n",
      "[623, 636, 522, 509, 623]\n",
      "[368, 382, 496, 485, 368]\n",
      "[511, 810, 805, 505, 511]\n",
      "[336, 186, 188, 338, 336]\n",
      "[6, 10, 57, 51, 6]\n"
     ]
    }
   ],
   "source": [
    "# TBD = Ground(\"TBD\")\n",
    "\n",
    "layout_array = []\n",
    "\n",
    "a = 0\n",
    "p = str.find(\"<polygon\",a)\n",
    "while p>0:\n",
    "    x = []\n",
    "    y = []\n",
    "    b = str.find(\"/>\",p)\n",
    "    div = str[p+27:b-1] \n",
    "    # print(\"shape:\", div)\n",
    "    chr_id=0\n",
    "    type = 0\n",
    "    sp = div.find(\" \",chr_id)\n",
    "    while sp>0:\n",
    "        if type:\n",
    "            # print(\"y:\",div[chr_id:sp])\n",
    "            y.append(int(div[chr_id:sp]))\n",
    "        else:\n",
    "            # print(\"x:\",div[chr_id:sp])\n",
    "            x.append(int(div[chr_id:sp]))\n",
    "\n",
    "        type = 1-type\n",
    "        chr_id = sp\n",
    "        sp = div.find(\" \", sp+1)\n",
    "    # print(\"y:\",div[chr_id:len(div)])\n",
    "    y.append(int(div[chr_id:len(div)]))\n",
    "\n",
    "    a = b\n",
    "    p = str.find(\"<polygon\",a)\n",
    "    print(x)\n",
    "    print(y)\n",
    "    seq = []\n",
    "    for i in range(len(x)):\n",
    "        seq.append(Point(x[i],y[i]))\n",
    "    layout_array.append(Shape(seq))\n",
    "\n",
    "\n"
   ]
  },
  {
   "cell_type": "code",
   "execution_count": 5,
   "metadata": {},
   "outputs": [],
   "source": [
    "class Ground:\n",
    "    def __init__(self,name,x,y) -> None:\n",
    "        self.name = name\n",
    "        self.x = x\n",
    "        self.y = y\n",
    "        self.length = len(x)"
   ]
  },
  {
   "cell_type": "code",
   "execution_count": 6,
   "metadata": {},
   "outputs": [
    {
     "name": "stdout",
     "output_type": "stream",
     "text": [
      "{\"name\": \"TBD\", \"x\": [336, 186, 188, 338, 336], \"y\": [6, 10, 57, 51, 6], \"length\": 5}\n"
     ]
    }
   ],
   "source": [
    "tbd = Ground(\"TBD\", x,y)\n",
    "import json\n",
    "jn = json.dumps(tbd.__dict__)\n",
    "print(jn)\n",
    "ofile = open(outfile, \"w\")\n",
    "ofile.write(jn)\n",
    "ofile.close()"
   ]
  }
 ],
 "metadata": {
  "kernelspec": {
   "display_name": "Python 3.10.0 64-bit",
   "language": "python",
   "name": "python3"
  },
  "language_info": {
   "codemirror_mode": {
    "name": "ipython",
    "version": 3
   },
   "file_extension": ".py",
   "mimetype": "text/x-python",
   "name": "python",
   "nbconvert_exporter": "python",
   "pygments_lexer": "ipython3",
   "version": "3.10.0"
  },
  "orig_nbformat": 4,
  "vscode": {
   "interpreter": {
    "hash": "aee8b7b246df8f9039afb4144a1f6fd8d2ca17a180786b69acc140d282b71a49"
   }
  }
 },
 "nbformat": 4,
 "nbformat_minor": 2
}
