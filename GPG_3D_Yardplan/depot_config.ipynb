{
 "cells": [
  {
   "cell_type": "code",
   "execution_count": null,
   "metadata": {},
   "outputs": [],
   "source": [
    "import math\n",
    "depot_name = \"Tan Binh e-depot\""
   ]
  },
  {
   "cell_type": "code",
   "execution_count": null,
   "metadata": {},
   "outputs": [],
   "source": [
    "\n",
    "class Point:\n",
    "    def __init__(self,x,y) -> None:\n",
    "        self.x = x\n",
    "        self.y = y\n",
    "    \n",
    "    def translate(self, dx=0, dy=0):\n",
    "        self.x += dx\n",
    "        self.y += dy\n",
    "\n",
    "    def scale(self, coef):\n",
    "        self.x *= coef\n",
    "        self.y *= coef\n",
    "\n",
    "class Shape:\n",
    "    def __init__(self, seq) -> None:\n",
    "        self.seq = seq\n",
    "        self.length = len(seq)\n",
    "\n",
    "class Area:\n",
    "    def __init__(self, name, x, y, shape, num_of_bay=15, num_of_row=6, num_of_tier=6) -> None:\n",
    "        self.name = name\n",
    "        self.num_of_bay = num_of_bay\n",
    "        self.num_of_row = num_of_row\n",
    "        self.num_of_tire = num_of_tier\n",
    "        self.x_coor = x\n",
    "        self.y_coor = y\n",
    "        self.shape = shape\n",
    "\n",
    "\n",
    "class Layout:\n",
    "    def __init__(self,name,shape) -> None:\n",
    "        self.name = name\n",
    "        self.shape = shape\n",
    "        self.Area = []\n",
    "\n",
    "class Depot:\n",
    "    def __init__(self, name, layout, container_scale=1) -> None:\n",
    "        self.name = name\n",
    "        self.layout = layout\n",
    "        self.contWidth = 8 * container_scale\n",
    "        self.contHeight = 8.5 * container_scale\n",
    "        self.contLength = 20 * container_scale\n",
    "        self.contHalfLength = 10 * container_scale\n",
    "        self.contGap = math.floor(self.contLength*0.06)\n",
    "        self.fontSize = 3*container_scale\n",
    "\n",
    "\n"
   ]
  }
 ],
 "metadata": {
  "kernelspec": {
   "display_name": "Python 3.10.0 64-bit",
   "language": "python",
   "name": "python3"
  },
  "language_info": {
   "name": "python",
   "version": "3.10.0"
  },
  "orig_nbformat": 4,
  "vscode": {
   "interpreter": {
    "hash": "aee8b7b246df8f9039afb4144a1f6fd8d2ca17a180786b69acc140d282b71a49"
   }
  }
 },
 "nbformat": 4,
 "nbformat_minor": 2
}
