{
 "cells": [
  {
   "cell_type": "code",
   "execution_count": null,
   "metadata": {},
   "outputs": [],
   "source": [
    "import math\n",
    "depot_name = \"Tan Binh e-depot\"\n"
   ]
  },
  {
   "cell_type": "code",
   "execution_count": 1,
   "metadata": {},
   "outputs": [],
   "source": [
    "def svg2shape(path):\n",
    "    file = open(path, \"r\")\n",
    "    str = file.read()\n",
    "    x = []\n",
    "    y = []\n",
    "    a = 0\n",
    "    p = str.find(\"x1=\",a)\n",
    "    point_id = 0\n",
    "    while p>0:\n",
    "        b = str.find(\"/>\",p)\n",
    "        div = str[p:b] \n",
    "        # print(div)\n",
    "\n",
    "        k1 = 0\n",
    "        k2 = 0\n",
    "        type = 0\n",
    "        for i in range(2):\n",
    "            qu1 = div.find('\"',k1+1)\n",
    "            if qu1<0: continue\n",
    "            k1 = qu1\n",
    "            qu2 = div.find('\"',k1+1)\n",
    "            if qu2<0: continue\n",
    "            k2 = qu2\n",
    "            # print(div[k1+1:k2])\n",
    "            if type==0: \n",
    "                x.append(int(float(div[k1+1:k2])))\n",
    "            else:\n",
    "                y.append(int(float(div[k1+1:k2])))\n",
    "            type = 1-type\n",
    "            k1 = k2+1\n",
    "            point_id +=1\n",
    "\n",
    "        a = b\n",
    "        p = str.find(\"x1=\",a)\n",
    "    result = []\n",
    "    for i in range(len(x)):\n",
    "        result.append(Point(x[i],y[i]))\n",
    "    return Shape(result)"
   ]
  },
  {
   "cell_type": "code",
   "execution_count": 3,
   "metadata": {},
   "outputs": [],
   "source": [
    "\n",
    "class Point:\n",
    "    def __init__(self,x,y) -> None:\n",
    "        self.x = x\n",
    "        self.y = y\n",
    "    \n",
    "    def translate(self, dx=0, dy=0):\n",
    "        self.x += dx\n",
    "        self.y += dy\n",
    "\n",
    "    def scale(self, coef):\n",
    "        self.x *= coef\n",
    "        self.y *= coef\n",
    "\n",
    "class Shape:\n",
    "    def __init__(self, seq) -> None:\n",
    "        self.seq = seq\n",
    "        self.length = len(seq)\n",
    "\n",
    "class Area:\n",
    "    def __init__(self, name, x, y, shape, num_of_bay=15, num_of_row=6, num_of_tier=6) -> None:\n",
    "        self.name = name\n",
    "        self.num_of_bay = num_of_bay\n",
    "        self.num_of_row = num_of_row\n",
    "        self.num_of_tire = num_of_tier\n",
    "        self.x_coor = x\n",
    "        self.y_coor = y\n",
    "        self.shape = shape\n",
    "\n",
    "\n",
    "class Layout:\n",
    "    def __init__(self,name,svg_path) -> None:\n",
    "        self.name = name\n",
    "        self.shape = svg2shape(svg_path)\n",
    "        self.Area = []\n",
    "\n",
    "class Depot:\n",
    "    def __init__(self, name, layout, container_scale=1) -> None:\n",
    "        self.name = name\n",
    "        self.layout = layout\n",
    "        self.contWidth = 8 * container_scale\n",
    "        self.contHeight = 8.5 * container_scale\n",
    "        self.contLength = 20 * container_scale\n",
    "        self.contHalfLength = 10 * container_scale\n",
    "        self.contGap = math.floor(self.contLength*0.06)\n",
    "        self.fontSize = 3*container_scale        \n",
    "\n",
    "\n"
   ]
  },
  {
   "cell_type": "code",
   "execution_count": null,
   "metadata": {},
   "outputs": [],
   "source": []
  }
 ],
 "metadata": {
  "kernelspec": {
   "display_name": "Python 3.10.0 64-bit",
   "language": "python",
   "name": "python3"
  },
  "language_info": {
   "codemirror_mode": {
    "name": "ipython",
    "version": 3
   },
   "file_extension": ".py",
   "mimetype": "text/x-python",
   "name": "python",
   "nbconvert_exporter": "python",
   "pygments_lexer": "ipython3",
   "version": "3.10.0"
  },
  "orig_nbformat": 4,
  "vscode": {
   "interpreter": {
    "hash": "aee8b7b246df8f9039afb4144a1f6fd8d2ca17a180786b69acc140d282b71a49"
   }
  }
 },
 "nbformat": 4,
 "nbformat_minor": 2
}
