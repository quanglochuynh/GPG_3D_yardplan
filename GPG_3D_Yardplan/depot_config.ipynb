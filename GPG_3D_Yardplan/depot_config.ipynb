{
 "cells": [
  {
   "cell_type": "code",
   "execution_count": 1,
   "metadata": {},
   "outputs": [],
   "source": [
    "import math\n",
    "import json\n",
    "from json import JSONEncoder\n",
    "\n",
    "class depotEncoder(JSONEncoder):\n",
    "    def default(self, o):\n",
    "        return o.__dict__\n",
    "\n",
    "depot_name = \"Tan Binh e-depot\"\n",
    "outfile = \"data/etd.json\""
   ]
  },
  {
   "cell_type": "code",
   "execution_count": 2,
   "metadata": {},
   "outputs": [],
   "source": [
    "\n",
    "class Point:\n",
    "    def __init__(self,x,y) -> None:\n",
    "        self.x = x\n",
    "        self.y = y\n",
    "    \n",
    "    def translate(self, dx=0, dy=0):\n",
    "        self.x += dx\n",
    "        self.y += dy\n",
    "\n",
    "    def scale(self, cox=1, coy=1):\n",
    "        self.x *= cox\n",
    "        self.y *= coy\n",
    "\n",
    "class Shape:\n",
    "    def __init__(self, seq) -> None:\n",
    "        self.seq = seq\n",
    "        self.length = len(seq)\n",
    "    \n",
    "    def scale(self,cox=1, coy=1):\n",
    "        for i in range(self.length):\n",
    "            self.seq[i].scale(cox,coy)\n",
    "    \n",
    "    def translate(self,dx=0, dy=0):\n",
    "        for i in range(self.length):\n",
    "            self.seq[i].translate(dx,dy)\n",
    "\n",
    "class Container: \n",
    "    def __init__(self, contID, contSize, HangTau, Block, Bay, Row, Tier):\n",
    "        self.ContID = contID\n",
    "        self.ContTypeSizeID = contSize\n",
    "        self.HangTauID = HangTau\n",
    "        self.Block = Block\n",
    "        self.Bay = Bay\n",
    "        self.Row = Row\n",
    "        self.Tier = Tier\n",
    "        self.angle = 0\n",
    "        self.x=0\n",
    "        self.y=0\n",
    "        self.z=0"
   ]
  },
  {
   "cell_type": "code",
   "execution_count": 3,
   "metadata": {},
   "outputs": [],
   "source": [
    "def svg2layout(path):\n",
    "    file = open(path, \"r\")\n",
    "    str = file.read()\n",
    "    layout_array = []\n",
    "    a = 0\n",
    "    p = str.find(\"<polygon\",a)\n",
    "    while p>0:\n",
    "        x = []\n",
    "        y = []\n",
    "        b = str.find(\"/>\",p)\n",
    "        div = str[p+27:b-1] \n",
    "        print(\"shape:\", div)\n",
    "        chr_id=0\n",
    "        type = 0\n",
    "        sp = div.find(\" \",chr_id)\n",
    "        while sp>0:\n",
    "            if type:\n",
    "                # print(\"y:\",div[chr_id:sp])\n",
    "                y.append(int(div[chr_id:sp]))\n",
    "            else:\n",
    "                # print(\"x:\",div[chr_id:sp])\n",
    "                x.append(int(div[chr_id:sp]))\n",
    "\n",
    "            type = 1-type\n",
    "            chr_id = sp\n",
    "            sp = div.find(\" \", sp+1)\n",
    "        # print(\"y:\",div[chr_id:len(div)])\n",
    "        y.append(int(div[chr_id:len(div)]))\n",
    "\n",
    "        a = b\n",
    "        p = str.find(\"<polygon\",a)\n",
    "        # print(x)\n",
    "        # print(y)\n",
    "        seq = []\n",
    "        for i in range(len(x)):\n",
    "            seq.append(Point(x[i],y[i]))\n",
    "        layout_array.append(Shape(seq))\n",
    "    return layout_array"
   ]
  },
  {
   "cell_type": "code",
   "execution_count": 4,
   "metadata": {},
   "outputs": [],
   "source": [
    "class Area:\n",
    "    def __init__(self, name, x, y, offsetX=0, offsetY=0, angle=0, x_flip=False, y_flip=False, shape=None, num_of_bay=15, num_of_row=6, num_of_tier=6) -> None:\n",
    "        self.name = name\n",
    "        self.num_of_bay = num_of_bay\n",
    "        self.num_of_row = num_of_row\n",
    "        self.num_of_tire = num_of_tier\n",
    "        self.x_coor = x\n",
    "        self.y_coor = y\n",
    "        self.shape = shape\n",
    "        self.angle = angle\n",
    "        self.offset = Point(offsetX, offsetY)\n",
    "        self.x_flip = x_flip\n",
    "        self.y_flip = y_flip\n",
    "\n",
    "\n",
    "class Layout:\n",
    "    def __init__(self,name,svg_path) -> None:\n",
    "        self.name = name\n",
    "        self.shape = svg2layout(svg_path)\n",
    "\n",
    "    def scale(self,cox=1, coy=1):\n",
    "        for i in range(len(self.shape)):\n",
    "            self.shape[i].scale(cox,coy)\n",
    "    \n",
    "    def translate(self,dx=0, dy=0):\n",
    "        for i in range(len(self.shape)):\n",
    "            self.shape[i].translate(dx,dy)\n",
    "\n",
    "class House:\n",
    "    def __init__(self, type, name, shape, id1=0, id2=2, height=100, angle=0) -> None:\n",
    "        self.type = type\n",
    "        self.name = name\n",
    "        self.shape = shape\n",
    "        self.id1 = id1\n",
    "        self.id2 = id2\n",
    "        self.height = height\n",
    "        self.angle = angle\n",
    "\n",
    "\n",
    "class Depot:\n",
    "    def __init__(self, name, layout, area=[], house=[], container_scale=1) -> None:\n",
    "        self.name = name\n",
    "        self.layout = layout\n",
    "        self.contWidth = 8 * container_scale\n",
    "        self.contHeight = 8.5 * container_scale\n",
    "        self.contLength = 20 * container_scale\n",
    "        self.contHalfLength = 10 * container_scale\n",
    "        self.contGap = math.floor(self.contLength*0.06)\n",
    "        self.fontSize = 3*container_scale   \n",
    "        self.Area = area\n",
    "        self.house = house"
   ]
  },
  {
   "cell_type": "code",
   "execution_count": 5,
   "metadata": {},
   "outputs": [
    {
     "data": {
      "text/plain": [
       "0.02583087292951608"
      ]
     },
     "execution_count": 5,
     "metadata": {},
     "output_type": "execute_result"
    }
   ],
   "source": [
    "1.48*2*math.pi/360\n"
   ]
  },
  {
   "cell_type": "code",
   "execution_count": 6,
   "metadata": {},
   "outputs": [
    {
     "name": "stdout",
     "output_type": "stream",
     "text": [
      "shape: 99 60 100 123 39 138 1 169 1 528 13 966 22 966 24 992 321 1017 369 1015 365 823 523 825 496 568 549 327 551 1 119 11 117 60 99 60\n",
      "shape: 450 124 451 205 70 205 70 137 100 137 99 125 450 124\n",
      "shape: 451 263 451 388 70 388 70 263 451 263\n",
      "shape: 499 496 384 499 382 443 498 439 499 496\n",
      "shape: 279 457 282 497 65 509 62 468 279 457\n",
      "shape: 316 678 323 838 61 850 53 691 316 678\n",
      "shape: 325 898 35 911 38 991 126 988 127 1000 215 995 216 1007 272 1004 331 1001 325 898\n",
      "shape: 329 623 58 636 52 522 324 509 329 623\n",
      "shape: 368 511 382 810 496 805 485 505 368 511\n",
      "shape: 336 6 186 10 188 57 338 51 336 6\n"
     ]
    }
   ],
   "source": [
    "etd_layout = Layout(\"General\",\"data/tbd_ground.svg\")\n",
    "etd_layout.scale(cox=3, coy=3)\n",
    "etd_layout.translate(-800, -1500)\n",
    "# etd_layout.translate(2)\n",
    "\n",
    "# add area here\n",
    "Area_A = Area(\"A\", etd_layout.shape[1].seq[6].x, etd_layout.shape[1].seq[6].y, x_flip=True)\n",
    "Area_B = Area(\"B\", etd_layout.shape[2].seq[4].x, etd_layout.shape[2].seq[4].y, x_flip=True)\n",
    "Area_C = Area(\"C\", etd_layout.shape[3].seq[0].x, etd_layout.shape[3].seq[0].y, angle=0.02583087292951608, offsetX=-42, offsetY=16)\n",
    "Area_E = Area(\"D\", etd_layout.shape[5].seq[1].x, etd_layout.shape[5].seq[1].y, angle=0.05235987755982988, offsetX=52, offsetY=5)\n",
    "Area_SC = Area(\"SC\", etd_layout.shape[4].seq[1].x, etd_layout.shape[4].seq[1].y, angle=0.05235987755982988)\n",
    "Area_F = Area(\"F\", etd_layout.shape[6].seq[8].x, etd_layout.shape[6].seq[8].y, angle=0.05235987755982988, offsetX=80, offsetY=8)\n",
    "\n",
    "\n",
    "# add warehouse here\n",
    "wh1 = House(\"WH\", \"Kho 1\", etd_layout.shape[7],0,2,200,0.05235987755982988)\n",
    "wh2 = House(\"WH\", \"kho 2\", etd_layout.shape[8],2,0, 200, 0.05235987755982988)\n",
    "wh3 = House(\"Kho\", \"Nha Kho\", etd_layout.shape[9], 3,1,100,0.05235987755982988)\n",
    "etd = Depot(\"etd\", etd_layout, area=[Area_A, Area_B, Area_C, Area_E,Area_SC, Area_F], house=[wh1, wh2, wh3],container_scale=4.2)"
   ]
  },
  {
   "cell_type": "code",
   "execution_count": 7,
   "metadata": {},
   "outputs": [],
   "source": [
    "\n",
    "jn = (depotEncoder().encode(etd))\n",
    "ofile = open(outfile, \"w\")\n",
    "ofile.write(jn)\n",
    "ofile.close()"
   ]
  },
  {
   "cell_type": "code",
   "execution_count": 8,
   "metadata": {},
   "outputs": [],
   "source": [
    "# doc json container\n",
    "# file = open(\"data/cont3.json\", \"r\")\n"
   ]
  },
  {
   "cell_type": "code",
   "execution_count": 9,
   "metadata": {},
   "outputs": [],
   "source": [
    "# cont_array = json.load(file)\n",
    "# for i in cont_array:\n",
    "#     print(i)"
   ]
  }
 ],
 "metadata": {
  "kernelspec": {
   "display_name": "Python 3.10.4 ('base')",
   "language": "python",
   "name": "python3"
  },
  "language_info": {
   "codemirror_mode": {
    "name": "ipython",
    "version": 3
   },
   "file_extension": ".py",
   "mimetype": "text/x-python",
   "name": "python",
   "nbconvert_exporter": "python",
   "pygments_lexer": "ipython3",
   "version": "3.10.4"
  },
  "orig_nbformat": 4,
  "vscode": {
   "interpreter": {
    "hash": "3b392867d34c15fd81efc0e6e696e723f38c9c666be2e1ec9dc6fdb1e725f84e"
   }
  }
 },
 "nbformat": 4,
 "nbformat_minor": 2
}
