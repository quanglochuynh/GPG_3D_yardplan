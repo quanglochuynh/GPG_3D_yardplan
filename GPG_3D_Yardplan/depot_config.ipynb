{
 "cells": [
  {
   "cell_type": "code",
   "execution_count": 1,
   "metadata": {},
   "outputs": [],
   "source": [
    "import math\n",
    "depot_name = \"Tan Binh e-depot\"\n",
    "outfile = \"data/etd.json\""
   ]
  },
  {
   "cell_type": "code",
   "execution_count": 2,
   "metadata": {},
   "outputs": [],
   "source": [
    "\n",
    "class Point:\n",
    "    def __init__(self,x,y) -> None:\n",
    "        self.x = x\n",
    "        self.y = y\n",
    "    \n",
    "    def translate(self, dx=0, dy=0):\n",
    "        self.x += dx\n",
    "        self.y += dy\n",
    "\n",
    "    def scale(self, coef):\n",
    "        self.x *= coef\n",
    "        self.y *= coef\n",
    "\n",
    "class Shape:\n",
    "    def __init__(self, seq) -> None:\n",
    "        self.seq = seq\n",
    "        self.length = len(seq)"
   ]
  },
  {
   "cell_type": "code",
   "execution_count": 3,
   "metadata": {},
   "outputs": [],
   "source": [
    "def svg2layout(path):\n",
    "    file = open(path, \"r\")\n",
    "    str = file.read()\n",
    "    layout_array = []\n",
    "    a = 0\n",
    "    p = str.find(\"<polygon\",a)\n",
    "    while p>0:\n",
    "        x = []\n",
    "        y = []\n",
    "        b = str.find(\"/>\",p)\n",
    "        div = str[p+27:b-1] \n",
    "        # print(\"shape:\", div)\n",
    "        chr_id=0\n",
    "        type = 0\n",
    "        sp = div.find(\" \",chr_id)\n",
    "        while sp>0:\n",
    "            if type:\n",
    "                # print(\"y:\",div[chr_id:sp])\n",
    "                y.append(int(div[chr_id:sp]))\n",
    "            else:\n",
    "                # print(\"x:\",div[chr_id:sp])\n",
    "                x.append(int(div[chr_id:sp]))\n",
    "\n",
    "            type = 1-type\n",
    "            chr_id = sp\n",
    "            sp = div.find(\" \", sp+1)\n",
    "        # print(\"y:\",div[chr_id:len(div)])\n",
    "        y.append(int(div[chr_id:len(div)]))\n",
    "\n",
    "        a = b\n",
    "        p = str.find(\"<polygon\",a)\n",
    "        # print(x)\n",
    "        # print(y)\n",
    "        seq = []\n",
    "        for i in range(len(x)):\n",
    "            seq.append(Point(x[i],y[i]))\n",
    "        layout_array.append(Shape(seq))\n",
    "    return layout_array"
   ]
  },
  {
   "cell_type": "code",
   "execution_count": 4,
   "metadata": {},
   "outputs": [],
   "source": [
    "class Area:\n",
    "    def __init__(self, name, x, y, shape, num_of_bay=15, num_of_row=6, num_of_tier=6) -> None:\n",
    "        self.name = name\n",
    "        self.num_of_bay = num_of_bay\n",
    "        self.num_of_row = num_of_row\n",
    "        self.num_of_tire = num_of_tier\n",
    "        self.x_coor = x\n",
    "        self.y_coor = y\n",
    "        self.shape = shape\n",
    "\n",
    "\n",
    "class Layout:\n",
    "    def __init__(self,name,svg_path) -> None:\n",
    "        self.name = name\n",
    "        self.shape = svg2layout(svg_path)\n",
    "        self.Area = []\n",
    "        self.warehouse = []\n",
    "\n",
    "class Depot:\n",
    "    def __init__(self, name, layout, container_scale=1) -> None:\n",
    "        self.name = name\n",
    "        self.layout = layout\n",
    "        self.contWidth = 8 * container_scale\n",
    "        self.contHeight = 8.5 * container_scale\n",
    "        self.contLength = 20 * container_scale\n",
    "        self.contHalfLength = 10 * container_scale\n",
    "        self.contGap = math.floor(self.contLength*0.06)\n",
    "        self.fontSize = 3*container_scale        "
   ]
  },
  {
   "cell_type": "code",
   "execution_count": 5,
   "metadata": {},
   "outputs": [],
   "source": [
    "etd_layout = Layout(\"General\",\"data/tbd_ground.svg\")\n",
    "\n",
    "etd = Depot(\"etd\", etd_layout,2)"
   ]
  },
  {
   "cell_type": "code",
   "execution_count": 7,
   "metadata": {},
   "outputs": [],
   "source": [
    "import json\n",
    "from json import JSONEncoder\n",
    "\n",
    "\n",
    "class depotEncoder(JSONEncoder):\n",
    "    def default(self, o):\n",
    "        return o.__dict__\n"
   ]
  },
  {
   "cell_type": "code",
   "execution_count": 9,
   "metadata": {},
   "outputs": [
    {
     "name": "stdout",
     "output_type": "stream",
     "text": [
      "{\"name\": \"etd\", \"layout\": {\"name\": \"General\", \"shape\": [{\"seq\": [{\"x\": 111, \"y\": 49}, {\"x\": 110, \"y\": 111}, {\"x\": 49, \"y\": 125}, {\"x\": 10, \"y\": 155}, {\"x\": 1, \"y\": 514}, {\"x\": 2, \"y\": 952}, {\"x\": 11, \"y\": 952}, {\"x\": 12, \"y\": 978}, {\"x\": 309, \"y\": 1011}, {\"x\": 357, \"y\": 1010}, {\"x\": 358, \"y\": 818}, {\"x\": 515, \"y\": 824}, {\"x\": 495, \"y\": 566}, {\"x\": 554, \"y\": 327}, {\"x\": 564, \"y\": 1}, {\"x\": 132, \"y\": 1}, {\"x\": 128, \"y\": 49}, {\"x\": 111, \"y\": 49}], \"length\": 18}, {\"seq\": [{\"x\": 460, \"y\": 122}, {\"x\": 459, \"y\": 202}, {\"x\": 78, \"y\": 193}, {\"x\": 80, \"y\": 125}, {\"x\": 110, \"y\": 125}, {\"x\": 109, \"y\": 113}, {\"x\": 460, \"y\": 122}], \"length\": 7}, {\"seq\": [{\"x\": 457, \"y\": 261}, {\"x\": 454, \"y\": 386}, {\"x\": 74, \"y\": 376}, {\"x\": 77, \"y\": 251}, {\"x\": 457, \"y\": 261}], \"length\": 5}, {\"seq\": [{\"x\": 312, \"y\": 672}, {\"x\": 315, \"y\": 832}, {\"x\": 53, \"y\": 838}, {\"x\": 49, \"y\": 678}, {\"x\": 312, \"y\": 672}], \"length\": 5}, {\"seq\": [{\"x\": 316, \"y\": 892}, {\"x\": 25, \"y\": 898}, {\"x\": 27, \"y\": 978}, {\"x\": 115, \"y\": 977}, {\"x\": 115, \"y\": 989}, {\"x\": 203, \"y\": 986}, {\"x\": 204, \"y\": 998}, {\"x\": 260, \"y\": 997}, {\"x\": 259, \"y\": 962}, {\"x\": 318, \"y\": 960}, {\"x\": 316, \"y\": 892}], \"length\": 11}], \"Area\": [], \"warehouse\": []}, \"contWidth\": 16, \"contHeight\": 17.0, \"contLength\": 40, \"contHalfLength\": 20, \"contGap\": 2, \"fontSize\": 6}\n"
     ]
    }
   ],
   "source": [
    "\n",
    "print(depotEncoder().encode(etd))\n",
    "# ofile = open(outfile, \"w\")\n",
    "# ofile.write(jn)\n",
    "# ofile.close()"
   ]
  }
 ],
 "metadata": {
  "kernelspec": {
   "display_name": "Python 3.10.4 ('base')",
   "language": "python",
   "name": "python3"
  },
  "language_info": {
   "codemirror_mode": {
    "name": "ipython",
    "version": 3
   },
   "file_extension": ".py",
   "mimetype": "text/x-python",
   "name": "python",
   "nbconvert_exporter": "python",
   "pygments_lexer": "ipython3",
   "version": "3.10.4"
  },
  "orig_nbformat": 4,
  "vscode": {
   "interpreter": {
    "hash": "3b392867d34c15fd81efc0e6e696e723f38c9c666be2e1ec9dc6fdb1e725f84e"
   }
  }
 },
 "nbformat": 4,
 "nbformat_minor": 2
}
