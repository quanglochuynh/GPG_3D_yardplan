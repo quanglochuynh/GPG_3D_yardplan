{
 "cells": [
  {
   "cell_type": "code",
   "execution_count": 1,
   "metadata": {},
   "outputs": [],
   "source": [
    "import pandas as pd\n",
    "excel = pd.read_excel(\"data/Container_In_Stock_110_20221019161320014.xlsx\", index_col=None)\n"
   ]
  },
  {
   "cell_type": "code",
   "execution_count": 2,
   "metadata": {},
   "outputs": [],
   "source": [
    "class Container: \n",
    "    def __init__(self, contID, contSize, HangTau, Block, Bay, Row, Tier):\n",
    "        self.ContID = contID\n",
    "        self.ContTypeSizeID = contSize\n",
    "        self.HangTauID = HangTau\n",
    "        self.Block = Block\n",
    "        self.Bay = Bay\n",
    "        self.Row = Row\n",
    "        self.Tier = Tier\n",
    "        self.angle = 0\n",
    "        self.x=0\n",
    "        self.y=0\n",
    "        self.z=0\n",
    "\n",
    "cont = excel.values.tolist()\n",
    "cont_array = []\n",
    "for c in cont:\n",
    "    cont_array.append(Container(*c))"
   ]
  },
  {
   "cell_type": "code",
   "execution_count": 3,
   "metadata": {},
   "outputs": [
    {
     "name": "stdout",
     "output_type": "stream",
     "text": [
      "TRLU9616946\n"
     ]
    }
   ],
   "source": [
    "print(cont_array[1].ContID)"
   ]
  },
  {
   "cell_type": "code",
   "execution_count": 4,
   "metadata": {},
   "outputs": [],
   "source": [
    "from json import JSONEncoder\n",
    "\n",
    "\n",
    "class depotEncoder(JSONEncoder):\n",
    "    def default(self, o):\n",
    "        return o.__dict__"
   ]
  },
  {
   "cell_type": "code",
   "execution_count": 5,
   "metadata": {},
   "outputs": [],
   "source": [
    "\n",
    "jn = (depotEncoder().encode(cont_array))\n",
    "\n",
    "outfile = \"data/cont3.json\"\n",
    "ofile = open(outfile, \"w\")\n",
    "ofile.write(jn)\n",
    "ofile.close()"
   ]
  },
  {
   "cell_type": "code",
   "execution_count": null,
   "metadata": {},
   "outputs": [],
   "source": []
  }
 ],
 "metadata": {
  "kernelspec": {
   "display_name": "Python 3.10.4 ('base')",
   "language": "python",
   "name": "python3"
  },
  "language_info": {
   "codemirror_mode": {
    "name": "ipython",
    "version": 3
   },
   "file_extension": ".py",
   "mimetype": "text/x-python",
   "name": "python",
   "nbconvert_exporter": "python",
   "pygments_lexer": "ipython3",
   "version": "3.10.4"
  },
  "orig_nbformat": 4,
  "vscode": {
   "interpreter": {
    "hash": "3b392867d34c15fd81efc0e6e696e723f38c9c666be2e1ec9dc6fdb1e725f84e"
   }
  }
 },
 "nbformat": 4,
 "nbformat_minor": 2
}
