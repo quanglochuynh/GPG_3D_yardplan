{
 "cells": [
  {
   "cell_type": "code",
   "execution_count": 19,
   "metadata": {},
   "outputs": [],
   "source": [
    "infile = \"data/tbd_ground.svg\"\n",
    "outfile = \"data/tbd_ground.json\""
   ]
  },
  {
   "cell_type": "code",
   "execution_count": 20,
   "metadata": {},
   "outputs": [
    {
     "name": "stdout",
     "output_type": "stream",
     "text": [
      "<svg xmlns=\"http://www.w3.org/2000/svg\" width=\"565\" height=\"1011\" viewBox=\"0 0 565 1011\">\n",
      "  <defs>\n",
      "    <style>\n",
      "      .a {\n",
      "        fill: none;\n",
      "        stroke: #000;\n",
      "        stroke-miterlimit: 10;\n",
      "      }\n",
      "    </style>\n",
      "  </defs>\n",
      "  <polygon class=\"a\" points=\"111 49 110 111 49 125 10 155 1 514 2 952 11 952 12 978 309 1011 357 1010 358 818 515 824 495 566 554 327 564 1 132 1 128 49 111 49\"/>\n",
      "  <polygon class=\"a\" points=\"460 122 459 202 78 193 80 125 110 125 109 113 460 122\"/>\n",
      "  <polygon class=\"a\" points=\"457 261 454 386 74 376 77 251 457 261\"/>\n",
      "  <rect class=\"a\" x=\"384\" y=\"438\" width=\"116\" height=\"55.92\"/>\n",
      "  <polygon class=\"a\" points=\"312 672 315 832 53 838 49 678 312 672\"/>\n",
      "  <polygon class=\"a\" points=\"316 892 25 898 27 978 115 977 115 989 203 986 204 998 260 997 259 962 318 960 316 892\"/>\n",
      "</svg>\n",
      "\n"
     ]
    }
   ],
   "source": [
    "file = open(infile, \"r\")\n",
    "str = file.read()\n",
    "print(str)"
   ]
  },
  {
   "cell_type": "code",
   "execution_count": 43,
   "metadata": {},
   "outputs": [],
   "source": [
    "class Point:\n",
    "    def __init__(self,x,y) -> None:\n",
    "        self.x = x\n",
    "        self.y = y\n",
    "    \n",
    "    def translate(self, dx=0, dy=0):\n",
    "        self.x += dx\n",
    "        self.y += dy\n",
    "\n",
    "    def scale(self, coef):\n",
    "        self.x *= coef\n",
    "        self.y *= coef\n",
    "\n",
    "class Shape:\n",
    "    def __init__(self, seq) -> None:\n",
    "        self.seq = seq\n",
    "        self.length = len(seq)"
   ]
  },
  {
   "cell_type": "code",
   "execution_count": 45,
   "metadata": {},
   "outputs": [
    {
     "name": "stdout",
     "output_type": "stream",
     "text": [
      "[111, 110, 49, 10, 1, 2, 11, 12, 309, 357, 358, 515, 495, 554, 564, 132, 128, 111]\n",
      "[49, 111, 125, 155, 514, 952, 952, 978, 1011, 1010, 818, 824, 566, 327, 1, 1, 49, 49]\n",
      "[460, 459, 78, 80, 110, 109, 460]\n",
      "[122, 202, 193, 125, 125, 113, 122]\n",
      "[457, 454, 74, 77, 457]\n",
      "[261, 386, 376, 251, 261]\n",
      "[312, 315, 53, 49, 312]\n",
      "[672, 832, 838, 678, 672]\n",
      "[316, 25, 27, 115, 115, 203, 204, 260, 259, 318, 316]\n",
      "[892, 898, 978, 977, 989, 986, 998, 997, 962, 960, 892]\n"
     ]
    }
   ],
   "source": [
    "# TBD = Ground(\"TBD\")\n",
    "\n",
    "layout_array = []\n",
    "\n",
    "a = 0\n",
    "p = str.find(\"<polygon\",a)\n",
    "while p>0:\n",
    "    x = []\n",
    "    y = []\n",
    "    b = str.find(\"/>\",p)\n",
    "    div = str[p+27:b-1] \n",
    "    # print(\"shape:\", div)\n",
    "    chr_id=0\n",
    "    type = 0\n",
    "    sp = div.find(\" \",chr_id)\n",
    "    while sp>0:\n",
    "        if type:\n",
    "            # print(\"y:\",div[chr_id:sp])\n",
    "            y.append(int(div[chr_id:sp]))\n",
    "        else:\n",
    "            # print(\"x:\",div[chr_id:sp])\n",
    "            x.append(int(div[chr_id:sp]))\n",
    "\n",
    "        type = 1-type\n",
    "        chr_id = sp\n",
    "        sp = div.find(\" \", sp+1)\n",
    "    # print(\"y:\",div[chr_id:len(div)])\n",
    "    y.append(int(div[chr_id:len(div)]))\n",
    "\n",
    "    a = b\n",
    "    p = str.find(\"<polygon\",a)\n",
    "    print(x)\n",
    "    print(y)\n",
    "    seq = []\n",
    "    for i in range(len(x)):\n",
    "        seq.append(Point(x[i],y[i]))\n",
    "    layout_array.append(Shape(seq))\n",
    "\n",
    "\n"
   ]
  },
  {
   "cell_type": "code",
   "execution_count": 11,
   "metadata": {},
   "outputs": [],
   "source": [
    "class Ground:\n",
    "    def __init__(self,name,x,y) -> None:\n",
    "        self.name = name\n",
    "        self.x = x\n",
    "        self.y = y\n",
    "        self.length = len(x)"
   ]
  },
  {
   "cell_type": "code",
   "execution_count": 12,
   "metadata": {},
   "outputs": [
    {
     "name": "stdout",
     "output_type": "stream",
     "text": [
      "{\"name\": \"TBD\", \"x\": [132, 564, 553, 494, 514, 357, 356, 308, 12, 11, 2, 0, 10, 49, 110, 110, 128], \"y\": [0, 0, 326, 566, 824, 818, 1010, 1010, 978, 952, 951, 514, 155, 125, 111, 48, 48], \"length\": 17}\n"
     ]
    }
   ],
   "source": [
    "tbd = Ground(\"TBD\", x,y)\n",
    "import json\n",
    "jn = json.dumps(tbd.__dict__)\n",
    "print(jn)\n",
    "ofile = open(outfile, \"w\")\n",
    "ofile.write(jn)\n",
    "ofile.close()"
   ]
  }
 ],
 "metadata": {
  "kernelspec": {
   "display_name": "Python 3.10.0 64-bit",
   "language": "python",
   "name": "python3"
  },
  "language_info": {
   "codemirror_mode": {
    "name": "ipython",
    "version": 3
   },
   "file_extension": ".py",
   "mimetype": "text/x-python",
   "name": "python",
   "nbconvert_exporter": "python",
   "pygments_lexer": "ipython3",
   "version": "3.10.0"
  },
  "orig_nbformat": 4,
  "vscode": {
   "interpreter": {
    "hash": "aee8b7b246df8f9039afb4144a1f6fd8d2ca17a180786b69acc140d282b71a49"
   }
  }
 },
 "nbformat": 4,
 "nbformat_minor": 2
}
