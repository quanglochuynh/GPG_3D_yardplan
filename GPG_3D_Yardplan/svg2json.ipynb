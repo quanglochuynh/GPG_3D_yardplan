{
 "cells": [
  {
   "cell_type": "code",
   "execution_count": 64,
   "metadata": {},
   "outputs": [],
   "source": [
    "infile = \"data/dedede.svg\", \"r\"\n",
    "outfile = \"data/tbd_ground.json\""
   ]
  },
  {
   "cell_type": "code",
   "execution_count": 36,
   "metadata": {},
   "outputs": [
    {
     "name": "stdout",
     "output_type": "stream",
     "text": [
      "<svg xmlns=\"http://www.w3.org/2000/svg\" width=\"564.52\" height=\"1011.04\" viewBox=\"0 0 564.52 1011.04\">\n",
      "  <defs>\n",
      "    <style>\n",
      "      .a {\n",
      "        fill: none;\n",
      "        stroke: #000;\n",
      "        stroke-miterlimit: 10;\n",
      "      }\n",
      "    </style>\n",
      "  </defs>\n",
      "  <line class=\"a\" x1=\"132.02\" y1=\"0.5\" x2=\"564.02\" y2=\"0.5\"/>\n",
      "  <line class=\"a\" x1=\"564.02\" y1=\"0.5\" x2=\"553.94\" y2=\"326.78\"/>\n",
      "  <line class=\"a\" x1=\"553.94\" y1=\"326.78\" x2=\"494.78\" y2=\"566.42\"/>\n",
      "  <line class=\"a\" x1=\"494.78\" y1=\"566.42\" x2=\"514.94\" y2=\"824.18\"/>\n",
      "  <line class=\"a\" x1=\"514.94\" y1=\"824.18\" x2=\"357.86\" y2=\"818.3\"/>\n",
      "  <line class=\"a\" x1=\"357.86\" y1=\"818.3\" x2=\"356.66\" y2=\"1010.42\"/>\n",
      "  <line class=\"a\" x1=\"356.66\" y1=\"1010.42\" x2=\"308.9\" y2=\"1010.54\"/>\n",
      "  <line class=\"a\" x1=\"308.9\" y1=\"1010.54\" x2=\"12.08\" y2=\"978.02\"/>\n",
      "  <line class=\"a\" x1=\"12.08\" y1=\"978.02\" x2=\"11.42\" y2=\"952.22\"/>\n",
      "  <line class=\"a\" x1=\"11.42\" y1=\"952.22\" x2=\"2.06\" y2=\"951.74\"/>\n",
      "  <line class=\"a\" x1=\"2.06\" y1=\"951.74\" x2=\"0.5\" y2=\"514.1\"/>\n",
      "  <line class=\"a\" x1=\"0.5\" y1=\"514.1\" x2=\"10.34\" y2=\"155.18\"/>\n",
      "  <line class=\"a\" x1=\"10.34\" y1=\"155.18\" x2=\"49.1\" y2=\"125.3\"/>\n",
      "  <line class=\"a\" x1=\"49.1\" y1=\"125.3\" x2=\"110.18\" y2=\"111.14\"/>\n",
      "  <line class=\"a\" x1=\"110.18\" y1=\"111.14\" x2=\"110.9\" y2=\"48.86\"/>\n",
      "  <line class=\"a\" x1=\"110.9\" y1=\"48.86\" x2=\"128.42\" y2=\"48.74\"/>\n",
      "  <line class=\"a\" x1=\"128.42\" y1=\"48.74\" x2=\"132.02\" y2=\"0.5\"/>\n",
      "</svg>\n",
      "\n"
     ]
    }
   ],
   "source": [
    "file = open(infile)\n",
    "str = file.read()\n",
    "print(str)"
   ]
  },
  {
   "cell_type": "code",
   "execution_count": 55,
   "metadata": {},
   "outputs": [
    {
     "name": "stdout",
     "output_type": "stream",
     "text": [
      "[132, 564, 553, 494, 514, 357, 356, 308, 12, 11, 2, 0, 10, 49, 110, 110, 128]\n",
      "[0, 0, 326, 566, 824, 818, 1010, 1010, 978, 952, 951, 514, 155, 125, 111, 48, 48]\n"
     ]
    }
   ],
   "source": [
    "# TBD = Ground(\"TBD\")\n",
    "x = []\n",
    "y = []\n",
    "a = 0\n",
    "p = str.find(\"x1=\",a)\n",
    "point_id = 0\n",
    "while p>0:\n",
    "    b = str.find(\"/>\",p)\n",
    "    div = str[p:b] \n",
    "    # print(div)\n",
    "\n",
    "    k1 = 0\n",
    "    k2 = 0\n",
    "    type = 0\n",
    "    for i in range(2):\n",
    "        qu1 = div.find('\"',k1+1)\n",
    "        if qu1<0: continue\n",
    "        k1 = qu1\n",
    "        qu2 = div.find('\"',k1+1)\n",
    "        if qu2<0: continue\n",
    "        k2 = qu2\n",
    "        # print(div[k1+1:k2])\n",
    "        if type==0: \n",
    "            x.append(int(float(div[k1+1:k2])))\n",
    "        else:\n",
    "            y.append(int(float(div[k1+1:k2])))\n",
    "        type = 1-type\n",
    "        k1 = k2+1\n",
    "        point_id +=1\n",
    "\n",
    "    a = b\n",
    "    p = str.find(\"x1=\",a)\n",
    "\n",
    "print(x)\n",
    "print(y)"
   ]
  },
  {
   "cell_type": "code",
   "execution_count": 58,
   "metadata": {},
   "outputs": [],
   "source": [
    "class Ground:\n",
    "    def __init__(self,name,x,y) -> None:\n",
    "        self.name = name\n",
    "        self.x = x\n",
    "        self.y = y"
   ]
  },
  {
   "cell_type": "code",
   "execution_count": 65,
   "metadata": {},
   "outputs": [
    {
     "name": "stdout",
     "output_type": "stream",
     "text": [
      "{\"name\": \"TBD\", \"x\": [132, 564, 553, 494, 514, 357, 356, 308, 12, 11, 2, 0, 10, 49, 110, 110, 128], \"y\": [0, 0, 326, 566, 824, 818, 1010, 1010, 978, 952, 951, 514, 155, 125, 111, 48, 48]}\n"
     ]
    }
   ],
   "source": [
    "tbd = Ground(\"TBD\", x,y)\n",
    "import json\n",
    "jn = json.dumps(tbd.__dict__)\n",
    "print(jn)\n",
    "ofile = open(outfile, \"w\")\n",
    "ofile.write(jn)\n",
    "ofile.close()"
   ]
  }
 ],
 "metadata": {
  "kernelspec": {
   "display_name": "Python 3.10.0 64-bit",
   "language": "python",
   "name": "python3"
  },
  "language_info": {
   "codemirror_mode": {
    "name": "ipython",
    "version": 3
   },
   "file_extension": ".py",
   "mimetype": "text/x-python",
   "name": "python",
   "nbconvert_exporter": "python",
   "pygments_lexer": "ipython3",
   "version": "3.10.0"
  },
  "orig_nbformat": 4,
  "vscode": {
   "interpreter": {
    "hash": "aee8b7b246df8f9039afb4144a1f6fd8d2ca17a180786b69acc140d282b71a49"
   }
  }
 },
 "nbformat": 4,
 "nbformat_minor": 2
}
