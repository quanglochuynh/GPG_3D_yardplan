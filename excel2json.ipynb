{
 "cells": [
  {
   "cell_type": "code",
   "execution_count": 28,
   "metadata": {},
   "outputs": [],
   "source": [
    "import pandas as pd\n",
    "excel = pd.read_excel(\"data/Container_In_Stock_110_20221026080315787.xlsx\", index_col=None)\n",
    "\n",
    "class Container: \n",
    "    def __init__(self, contID, contSize, HangTau, Block, Bay, Row, Tier,):\n",
    "        self.ContID = contID\n",
    "        self.ContTypeSizeID = contSize\n",
    "        self.HangTauID = HangTau\n",
    "        self.Block = Block\n",
    "        self.Bay = Bay\n",
    "        self.Row = Row\n",
    "        self.Tier = Tier\n",
    "        self.angle = 0\n",
    "        self.x=0\n",
    "        self.y=0\n",
    "        self.z=0"
   ]
  },
  {
   "cell_type": "code",
   "execution_count": 29,
   "metadata": {},
   "outputs": [
    {
     "ename": "KeyError",
     "evalue": "\"['ContTareWeight', 'ContWeight', 'ContYear', 'Booking chỉ định', 'Cảng chỉ định', 'Area', 'PhanLoaiID', 'Phân loại đóng hàng', 'SoNgayLuuBai', 'Ngày hoàn thành PSC', 'Ngày báo giá', 'Mô tả hư hỏng', 'Mô tả', 'Description', 'DateIn', 'GhiChuStock', 'Ghi chú chỉ định', 'TrangthaiInstock', 'Ghi chú GateIn', 'Remark', 'BookingChiDinh'] not found in axis\"",
     "output_type": "error",
     "traceback": [
      "\u001b[0;31m---------------------------------------------------------------------------\u001b[0m",
      "\u001b[0;31mKeyError\u001b[0m                                  Traceback (most recent call last)",
      "\u001b[1;32m/Users/lochuynhquang/Documents/GPG/GPG_3D_Yardplan/excel2json.ipynb Cell 2\u001b[0m in \u001b[0;36m<cell line: 2>\u001b[0;34m()\u001b[0m\n\u001b[1;32m      <a href='vscode-notebook-cell:/Users/lochuynhquang/Documents/GPG/GPG_3D_Yardplan/excel2json.ipynb#W6sZmlsZQ%3D%3D?line=0'>1</a>\u001b[0m excel \u001b[39m=\u001b[39m excel\u001b[39m.\u001b[39mdrop([\u001b[39m0\u001b[39m,\u001b[39m1\u001b[39m,\u001b[39m2\u001b[39m,\u001b[39m3\u001b[39m,\u001b[39m4\u001b[39m], axis\u001b[39m=\u001b[39m\u001b[39m0\u001b[39m)\n\u001b[0;32m----> <a href='vscode-notebook-cell:/Users/lochuynhquang/Documents/GPG/GPG_3D_Yardplan/excel2json.ipynb#W6sZmlsZQ%3D%3D?line=1'>2</a>\u001b[0m excel \u001b[39m=\u001b[39m excel\u001b[39m.\u001b[39;49mdrop(columns\u001b[39m=\u001b[39;49m[\u001b[39m'\u001b[39;49m\u001b[39mContTareWeight\u001b[39;49m\u001b[39m'\u001b[39;49m,\u001b[39m'\u001b[39;49m\u001b[39mContWeight\u001b[39;49m\u001b[39m'\u001b[39;49m,\t\u001b[39m'\u001b[39;49m\u001b[39mContYear\u001b[39;49m\u001b[39m'\u001b[39;49m,\t\u001b[39m'\u001b[39;49m\u001b[39mBooking chỉ định\u001b[39;49m\u001b[39m'\u001b[39;49m,\t\u001b[39m'\u001b[39;49m\u001b[39mCảng chỉ định\u001b[39;49m\u001b[39m'\u001b[39;49m, \u001b[39m'\u001b[39;49m\u001b[39mArea\u001b[39;49m\u001b[39m'\u001b[39;49m\t,\t\u001b[39m'\u001b[39;49m\u001b[39mPhanLoaiID\u001b[39;49m\u001b[39m'\u001b[39;49m,\t\u001b[39m'\u001b[39;49m\u001b[39mPhân loại đóng hàng\u001b[39;49m\u001b[39m'\u001b[39;49m,\t\u001b[39m'\u001b[39;49m\u001b[39mSoNgayLuuBai\u001b[39;49m\u001b[39m'\u001b[39;49m,\t\u001b[39m'\u001b[39;49m\u001b[39mNgày hoàn thành PSC\u001b[39;49m\u001b[39m'\u001b[39;49m,\t\u001b[39m'\u001b[39;49m\u001b[39mNgày báo giá\u001b[39;49m\u001b[39m'\u001b[39;49m,\t\u001b[39m'\u001b[39;49m\u001b[39mMô tả hư hỏng\u001b[39;49m\u001b[39m'\u001b[39;49m,\t\u001b[39m'\u001b[39;49m\u001b[39mMô tả\u001b[39;49m\u001b[39m'\u001b[39;49m,\t\u001b[39m'\u001b[39;49m\u001b[39mDescription\u001b[39;49m\u001b[39m'\u001b[39;49m,\t\u001b[39m'\u001b[39;49m\u001b[39mDateIn\u001b[39;49m\u001b[39m'\u001b[39;49m,\t\u001b[39m'\u001b[39;49m\u001b[39mGhiChuStock\u001b[39;49m\u001b[39m'\u001b[39;49m,\t\u001b[39m'\u001b[39;49m\u001b[39mGhi chú chỉ định\u001b[39;49m\u001b[39m'\u001b[39;49m,\t\u001b[39m'\u001b[39;49m\u001b[39mTrangthaiInstock\u001b[39;49m\u001b[39m'\u001b[39;49m,\t\u001b[39m'\u001b[39;49m\u001b[39mGhi chú GateIn\u001b[39;49m\u001b[39m'\u001b[39;49m,\t\u001b[39m'\u001b[39;49m\u001b[39mRemark\u001b[39;49m\u001b[39m'\u001b[39;49m,\t\u001b[39m'\u001b[39;49m\u001b[39mBookingChiDinh\u001b[39;49m\u001b[39m'\u001b[39;49m])\n\u001b[1;32m      <a href='vscode-notebook-cell:/Users/lochuynhquang/Documents/GPG/GPG_3D_Yardplan/excel2json.ipynb#W6sZmlsZQ%3D%3D?line=2'>3</a>\u001b[0m excel \u001b[39m=\u001b[39m excel\u001b[39m.\u001b[39mdrop([\u001b[39m0\u001b[39m], axis\u001b[39m=\u001b[39m\u001b[39m0\u001b[39m)\n\u001b[1;32m      <a href='vscode-notebook-cell:/Users/lochuynhquang/Documents/GPG/GPG_3D_Yardplan/excel2json.ipynb#W6sZmlsZQ%3D%3D?line=3'>4</a>\u001b[0m \u001b[39mprint\u001b[39m(excel)\n",
      "File \u001b[0;32m~/miniforge3/lib/python3.10/site-packages/pandas/util/_decorators.py:317\u001b[0m, in \u001b[0;36mdeprecate_nonkeyword_arguments.<locals>.decorate.<locals>.wrapper\u001b[0;34m(*args, **kwargs)\u001b[0m\n\u001b[1;32m    311\u001b[0m \u001b[39mif\u001b[39;00m \u001b[39mlen\u001b[39m(args) \u001b[39m>\u001b[39m num_allow_args:\n\u001b[1;32m    312\u001b[0m     warnings\u001b[39m.\u001b[39mwarn(\n\u001b[1;32m    313\u001b[0m         msg\u001b[39m.\u001b[39mformat(arguments\u001b[39m=\u001b[39marguments),\n\u001b[1;32m    314\u001b[0m         \u001b[39mFutureWarning\u001b[39;00m,\n\u001b[1;32m    315\u001b[0m         stacklevel\u001b[39m=\u001b[39mfind_stack_level(inspect\u001b[39m.\u001b[39mcurrentframe()),\n\u001b[1;32m    316\u001b[0m     )\n\u001b[0;32m--> 317\u001b[0m \u001b[39mreturn\u001b[39;00m func(\u001b[39m*\u001b[39;49margs, \u001b[39m*\u001b[39;49m\u001b[39m*\u001b[39;49mkwargs)\n",
      "File \u001b[0;32m~/miniforge3/lib/python3.10/site-packages/pandas/core/frame.py:5391\u001b[0m, in \u001b[0;36mDataFrame.drop\u001b[0;34m(self, labels, axis, index, columns, level, inplace, errors)\u001b[0m\n\u001b[1;32m   5243\u001b[0m \u001b[39m@deprecate_nonkeyword_arguments\u001b[39m(version\u001b[39m=\u001b[39m\u001b[39mNone\u001b[39;00m, allowed_args\u001b[39m=\u001b[39m[\u001b[39m\"\u001b[39m\u001b[39mself\u001b[39m\u001b[39m\"\u001b[39m, \u001b[39m\"\u001b[39m\u001b[39mlabels\u001b[39m\u001b[39m\"\u001b[39m])\n\u001b[1;32m   5244\u001b[0m \u001b[39mdef\u001b[39;00m \u001b[39mdrop\u001b[39m(  \u001b[39m# type: ignore[override]\u001b[39;00m\n\u001b[1;32m   5245\u001b[0m     \u001b[39mself\u001b[39m,\n\u001b[0;32m   (...)\u001b[0m\n\u001b[1;32m   5252\u001b[0m     errors: IgnoreRaise \u001b[39m=\u001b[39m \u001b[39m\"\u001b[39m\u001b[39mraise\u001b[39m\u001b[39m\"\u001b[39m,\n\u001b[1;32m   5253\u001b[0m ) \u001b[39m-\u001b[39m\u001b[39m>\u001b[39m DataFrame \u001b[39m|\u001b[39m \u001b[39mNone\u001b[39;00m:\n\u001b[1;32m   5254\u001b[0m     \u001b[39m\"\"\"\u001b[39;00m\n\u001b[1;32m   5255\u001b[0m \u001b[39m    Drop specified labels from rows or columns.\u001b[39;00m\n\u001b[1;32m   5256\u001b[0m \n\u001b[0;32m   (...)\u001b[0m\n\u001b[1;32m   5389\u001b[0m \u001b[39m            weight  1.0     0.8\u001b[39;00m\n\u001b[1;32m   5390\u001b[0m \u001b[39m    \"\"\"\u001b[39;00m\n\u001b[0;32m-> 5391\u001b[0m     \u001b[39mreturn\u001b[39;00m \u001b[39msuper\u001b[39;49m()\u001b[39m.\u001b[39;49mdrop(\n\u001b[1;32m   5392\u001b[0m         labels\u001b[39m=\u001b[39;49mlabels,\n\u001b[1;32m   5393\u001b[0m         axis\u001b[39m=\u001b[39;49maxis,\n\u001b[1;32m   5394\u001b[0m         index\u001b[39m=\u001b[39;49mindex,\n\u001b[1;32m   5395\u001b[0m         columns\u001b[39m=\u001b[39;49mcolumns,\n\u001b[1;32m   5396\u001b[0m         level\u001b[39m=\u001b[39;49mlevel,\n\u001b[1;32m   5397\u001b[0m         inplace\u001b[39m=\u001b[39;49minplace,\n\u001b[1;32m   5398\u001b[0m         errors\u001b[39m=\u001b[39;49merrors,\n\u001b[1;32m   5399\u001b[0m     )\n",
      "File \u001b[0;32m~/miniforge3/lib/python3.10/site-packages/pandas/util/_decorators.py:317\u001b[0m, in \u001b[0;36mdeprecate_nonkeyword_arguments.<locals>.decorate.<locals>.wrapper\u001b[0;34m(*args, **kwargs)\u001b[0m\n\u001b[1;32m    311\u001b[0m \u001b[39mif\u001b[39;00m \u001b[39mlen\u001b[39m(args) \u001b[39m>\u001b[39m num_allow_args:\n\u001b[1;32m    312\u001b[0m     warnings\u001b[39m.\u001b[39mwarn(\n\u001b[1;32m    313\u001b[0m         msg\u001b[39m.\u001b[39mformat(arguments\u001b[39m=\u001b[39marguments),\n\u001b[1;32m    314\u001b[0m         \u001b[39mFutureWarning\u001b[39;00m,\n\u001b[1;32m    315\u001b[0m         stacklevel\u001b[39m=\u001b[39mfind_stack_level(inspect\u001b[39m.\u001b[39mcurrentframe()),\n\u001b[1;32m    316\u001b[0m     )\n\u001b[0;32m--> 317\u001b[0m \u001b[39mreturn\u001b[39;00m func(\u001b[39m*\u001b[39;49margs, \u001b[39m*\u001b[39;49m\u001b[39m*\u001b[39;49mkwargs)\n",
      "File \u001b[0;32m~/miniforge3/lib/python3.10/site-packages/pandas/core/generic.py:4510\u001b[0m, in \u001b[0;36mNDFrame.drop\u001b[0;34m(self, labels, axis, index, columns, level, inplace, errors)\u001b[0m\n\u001b[1;32m   4508\u001b[0m \u001b[39mfor\u001b[39;00m axis, labels \u001b[39min\u001b[39;00m axes\u001b[39m.\u001b[39mitems():\n\u001b[1;32m   4509\u001b[0m     \u001b[39mif\u001b[39;00m labels \u001b[39mis\u001b[39;00m \u001b[39mnot\u001b[39;00m \u001b[39mNone\u001b[39;00m:\n\u001b[0;32m-> 4510\u001b[0m         obj \u001b[39m=\u001b[39m obj\u001b[39m.\u001b[39;49m_drop_axis(labels, axis, level\u001b[39m=\u001b[39;49mlevel, errors\u001b[39m=\u001b[39;49merrors)\n\u001b[1;32m   4512\u001b[0m \u001b[39mif\u001b[39;00m inplace:\n\u001b[1;32m   4513\u001b[0m     \u001b[39mself\u001b[39m\u001b[39m.\u001b[39m_update_inplace(obj)\n",
      "File \u001b[0;32m~/miniforge3/lib/python3.10/site-packages/pandas/core/generic.py:4551\u001b[0m, in \u001b[0;36mNDFrame._drop_axis\u001b[0;34m(self, labels, axis, level, errors, only_slice)\u001b[0m\n\u001b[1;32m   4549\u001b[0m         new_axis \u001b[39m=\u001b[39m axis\u001b[39m.\u001b[39mdrop(labels, level\u001b[39m=\u001b[39mlevel, errors\u001b[39m=\u001b[39merrors)\n\u001b[1;32m   4550\u001b[0m     \u001b[39melse\u001b[39;00m:\n\u001b[0;32m-> 4551\u001b[0m         new_axis \u001b[39m=\u001b[39m axis\u001b[39m.\u001b[39;49mdrop(labels, errors\u001b[39m=\u001b[39;49merrors)\n\u001b[1;32m   4552\u001b[0m     indexer \u001b[39m=\u001b[39m axis\u001b[39m.\u001b[39mget_indexer(new_axis)\n\u001b[1;32m   4554\u001b[0m \u001b[39m# Case for non-unique axis\u001b[39;00m\n\u001b[1;32m   4555\u001b[0m \u001b[39melse\u001b[39;00m:\n",
      "File \u001b[0;32m~/miniforge3/lib/python3.10/site-packages/pandas/core/indexes/base.py:6972\u001b[0m, in \u001b[0;36mIndex.drop\u001b[0;34m(self, labels, errors)\u001b[0m\n\u001b[1;32m   6970\u001b[0m \u001b[39mif\u001b[39;00m mask\u001b[39m.\u001b[39many():\n\u001b[1;32m   6971\u001b[0m     \u001b[39mif\u001b[39;00m errors \u001b[39m!=\u001b[39m \u001b[39m\"\u001b[39m\u001b[39mignore\u001b[39m\u001b[39m\"\u001b[39m:\n\u001b[0;32m-> 6972\u001b[0m         \u001b[39mraise\u001b[39;00m \u001b[39mKeyError\u001b[39;00m(\u001b[39mf\u001b[39m\u001b[39m\"\u001b[39m\u001b[39m{\u001b[39;00m\u001b[39mlist\u001b[39m(labels[mask])\u001b[39m}\u001b[39;00m\u001b[39m not found in axis\u001b[39m\u001b[39m\"\u001b[39m)\n\u001b[1;32m   6973\u001b[0m     indexer \u001b[39m=\u001b[39m indexer[\u001b[39m~\u001b[39mmask]\n\u001b[1;32m   6974\u001b[0m \u001b[39mreturn\u001b[39;00m \u001b[39mself\u001b[39m\u001b[39m.\u001b[39mdelete(indexer)\n",
      "\u001b[0;31mKeyError\u001b[0m: \"['ContTareWeight', 'ContWeight', 'ContYear', 'Booking chỉ định', 'Cảng chỉ định', 'Area', 'PhanLoaiID', 'Phân loại đóng hàng', 'SoNgayLuuBai', 'Ngày hoàn thành PSC', 'Ngày báo giá', 'Mô tả hư hỏng', 'Mô tả', 'Description', 'DateIn', 'GhiChuStock', 'Ghi chú chỉ định', 'TrangthaiInstock', 'Ghi chú GateIn', 'Remark', 'BookingChiDinh'] not found in axis\""
     ]
    }
   ],
   "source": [
    "excel = excel.drop(columns=['ContTareWeight','ContWeight',\t'ContYear',\t'Booking chỉ định',\t'Cảng chỉ định', 'Area'\t,\t'PhanLoaiID',\t'Phân loại đóng hàng',\t'SoNgayLuuBai',\t'Ngày hoàn thành PSC',\t'Ngày báo giá',\t'Mô tả hư hỏng',\t'Mô tả',\t'Description',\t'DateIn',\t'GhiChuStock',\t'Ghi chú chỉ định',\t'TrangthaiInstock',\t'Ghi chú GateIn',\t'Remark',\t'BookingChiDinh'])\n",
    "excel = excel.drop([0], axis=0)\n",
    "print(excel)"
   ]
  },
  {
   "cell_type": "code",
   "execution_count": 24,
   "metadata": {},
   "outputs": [],
   "source": [
    "cont = excel.values.tolist()\n",
    "cont_array = []\n",
    "for c in cont:\n",
    "    cont_array.append(Container(*c))"
   ]
  },
  {
   "cell_type": "code",
   "execution_count": 25,
   "metadata": {},
   "outputs": [
    {
     "name": "stdout",
     "output_type": "stream",
     "text": [
      "TRLU9616946\n"
     ]
    }
   ],
   "source": [
    "print(cont_array[1].ContID)"
   ]
  },
  {
   "cell_type": "code",
   "execution_count": 26,
   "metadata": {},
   "outputs": [],
   "source": [
    "from json import JSONEncoder\n",
    "\n",
    "class depotEncoder(JSONEncoder):\n",
    "    def default(self, o):\n",
    "        return o.__dict__"
   ]
  },
  {
   "cell_type": "code",
   "execution_count": 27,
   "metadata": {},
   "outputs": [],
   "source": [
    "\n",
    "jn = (depotEncoder().encode(cont_array))\n",
    "\n",
    "outfile = \"data/cont3.json\"\n",
    "ofile = open(outfile, \"w\")\n",
    "ofile.write(jn)\n",
    "ofile.close()"
   ]
  },
  {
   "cell_type": "code",
   "execution_count": null,
   "metadata": {},
   "outputs": [],
   "source": []
  }
 ],
 "metadata": {
  "kernelspec": {
   "display_name": "Python 3.10.4 ('base')",
   "language": "python",
   "name": "python3"
  },
  "language_info": {
   "codemirror_mode": {
    "name": "ipython",
    "version": 3
   },
   "file_extension": ".py",
   "mimetype": "text/x-python",
   "name": "python",
   "nbconvert_exporter": "python",
   "pygments_lexer": "ipython3",
   "version": "3.10.4"
  },
  "orig_nbformat": 4,
  "vscode": {
   "interpreter": {
    "hash": "3b392867d34c15fd81efc0e6e696e723f38c9c666be2e1ec9dc6fdb1e725f84e"
   }
  }
 },
 "nbformat": 4,
 "nbformat_minor": 2
}
