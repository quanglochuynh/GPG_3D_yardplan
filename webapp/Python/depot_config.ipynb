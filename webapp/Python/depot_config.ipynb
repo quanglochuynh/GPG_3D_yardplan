{
 "cells": [
  {
   "cell_type": "code",
   "execution_count": 27,
   "metadata": {},
   "outputs": [],
   "source": [
    "import sys\n",
    "sys.path.append(\"/Users/lochuynhquang/Documents/GPG_3D_yardplan/yardplan_creator\")\n",
    "from gpg import *\n",
    "\n",
    "\n",
    "depot_name = \"Tan Binh e-depot\"\n",
    "outfile = \"data/etd.json\""
   ]
  },
  {
   "cell_type": "code",
   "execution_count": 28,
   "metadata": {},
   "outputs": [
    {
     "ename": "IndexError",
     "evalue": "list index out of range",
     "output_type": "error",
     "traceback": [
      "\u001b[0;31m---------------------------------------------------------------------------\u001b[0m",
      "\u001b[0;31mIndexError\u001b[0m                                Traceback (most recent call last)",
      "\u001b[1;32m/Users/lochuynhquang/Documents/GPG_3D_yardplan/webapp/Python/depot_config.ipynb Cell 2\u001b[0m in \u001b[0;36m<cell line: 12>\u001b[0;34m()\u001b[0m\n\u001b[1;32m     <a href='vscode-notebook-cell:/Users/lochuynhquang/Documents/GPG_3D_yardplan/webapp/Python/depot_config.ipynb#W4sZmlsZQ%3D%3D?line=9'>10</a>\u001b[0m Area_E \u001b[39m=\u001b[39m Area(\u001b[39m\"\u001b[39m\u001b[39mD\u001b[39m\u001b[39m\"\u001b[39m, etd_layout\u001b[39m.\u001b[39mshape[\u001b[39m5\u001b[39m]\u001b[39m.\u001b[39mseq[\u001b[39m1\u001b[39m]\u001b[39m.\u001b[39mx, etd_layout\u001b[39m.\u001b[39mshape[\u001b[39m5\u001b[39m]\u001b[39m.\u001b[39mseq[\u001b[39m1\u001b[39m]\u001b[39m.\u001b[39my, angle\u001b[39m=\u001b[39m\u001b[39m0.05235987755982988\u001b[39m, offsetX\u001b[39m=\u001b[39m\u001b[39m52\u001b[39m, offsetY\u001b[39m=\u001b[39m\u001b[39m5\u001b[39m)\n\u001b[1;32m     <a href='vscode-notebook-cell:/Users/lochuynhquang/Documents/GPG_3D_yardplan/webapp/Python/depot_config.ipynb#W4sZmlsZQ%3D%3D?line=10'>11</a>\u001b[0m Area_SC \u001b[39m=\u001b[39m Area(\u001b[39m\"\u001b[39m\u001b[39mSC\u001b[39m\u001b[39m\"\u001b[39m, etd_layout\u001b[39m.\u001b[39mshape[\u001b[39m4\u001b[39m]\u001b[39m.\u001b[39mseq[\u001b[39m1\u001b[39m]\u001b[39m.\u001b[39mx, etd_layout\u001b[39m.\u001b[39mshape[\u001b[39m4\u001b[39m]\u001b[39m.\u001b[39mseq[\u001b[39m1\u001b[39m]\u001b[39m.\u001b[39my, angle\u001b[39m=\u001b[39m\u001b[39m0.05235987755982988\u001b[39m)\n\u001b[0;32m---> <a href='vscode-notebook-cell:/Users/lochuynhquang/Documents/GPG_3D_yardplan/webapp/Python/depot_config.ipynb#W4sZmlsZQ%3D%3D?line=11'>12</a>\u001b[0m Area_F \u001b[39m=\u001b[39m Area(\u001b[39m\"\u001b[39m\u001b[39mF\u001b[39m\u001b[39m\"\u001b[39m, etd_layout\u001b[39m.\u001b[39;49mshape[\u001b[39m6\u001b[39;49m]\u001b[39m.\u001b[39;49mseq[\u001b[39m5\u001b[39;49m]\u001b[39m.\u001b[39mx, etd_layout\u001b[39m.\u001b[39mshape[\u001b[39m6\u001b[39m]\u001b[39m.\u001b[39mseq[\u001b[39m5\u001b[39m]\u001b[39m.\u001b[39my, angle\u001b[39m=\u001b[39m\u001b[39m0.05235987755982988\u001b[39m, offsetX\u001b[39m=\u001b[39m\u001b[39m80\u001b[39m, offsetY\u001b[39m=\u001b[39m\u001b[39m8\u001b[39m)\n\u001b[1;32m     <a href='vscode-notebook-cell:/Users/lochuynhquang/Documents/GPG_3D_yardplan/webapp/Python/depot_config.ipynb#W4sZmlsZQ%3D%3D?line=14'>15</a>\u001b[0m \u001b[39m# add warehouse here\u001b[39;00m\n\u001b[1;32m     <a href='vscode-notebook-cell:/Users/lochuynhquang/Documents/GPG_3D_yardplan/webapp/Python/depot_config.ipynb#W4sZmlsZQ%3D%3D?line=15'>16</a>\u001b[0m wh1 \u001b[39m=\u001b[39m House(\u001b[39m0\u001b[39m, \u001b[39m\"\u001b[39m\u001b[39mKho 1\u001b[39m\u001b[39m\"\u001b[39m, etd_layout\u001b[39m.\u001b[39mshape[\u001b[39m7\u001b[39m],\u001b[39m0\u001b[39m,\u001b[39m2\u001b[39m,\u001b[39m200\u001b[39m,\u001b[39m0.05235987755982988\u001b[39m)\n",
      "\u001b[0;31mIndexError\u001b[0m: list index out of range"
     ]
    }
   ],
   "source": [
    "etd_layout = Layout(\"General\",\"../data/etd_ground.svg\")\n",
    "etd_layout.scale(cox=3, coy=3)\n",
    "etd_layout.translate(-400, -1700)\n",
    "# etd_layout.translate(2)\n",
    "\n",
    "# add area here\n",
    "Area_A = Area(\"A\", etd_layout.shape[1].seq[6].x, etd_layout.shape[1].seq[6].y, x_flip=True)\n",
    "Area_B = Area(\"B\", etd_layout.shape[2].seq[4].x, etd_layout.shape[2].seq[4].y, x_flip=True)\n",
    "Area_C = Area(\"C\", etd_layout.shape[3].seq[0].x, etd_layout.shape[3].seq[0].y, angle=0.02583087292951608, offsetX=-42, offsetY=16)\n",
    "Area_E = Area(\"D\", etd_layout.shape[5].seq[1].x, etd_layout.shape[5].seq[1].y, angle=0.05235987755982988, offsetX=52, offsetY=5)\n",
    "Area_SC = Area(\"SC\", etd_layout.shape[4].seq[1].x, etd_layout.shape[4].seq[1].y, angle=0.05235987755982988)\n",
    "Area_F = Area(\"F\", etd_layout.shape[6].seq[5].x, etd_layout.shape[6].seq[5].y, angle=0.05235987755982988, offsetX=80, offsetY=8)\n",
    "\n",
    "\n",
    "# add warehouse here\n",
    "wh1 = House(0, \"Kho 1\", etd_layout.shape[7],0,2,200,0.05235987755982988)\n",
    "wh2 = House(0, \"kho 2\", etd_layout.shape[8],2,0, 200, 0.05235987755982988)\n",
    "wh3 = House(1, \"Nha Kho\", etd_layout.shape[9], 3,1,100,0.05235987755982988)\n",
    "ruaCont = House(2, \"Rua container\", etd_layout.shape[10],3,1,20, offsetX=34, offsetY=-74)\n",
    "\n",
    "etd = Depot(\"etd\", etd_layout, area=[Area_A, Area_B, Area_C, Area_E,Area_SC, Area_F], house=[wh1, wh2, wh3, ruaCont],container_scale=4.2)"
   ]
  },
  {
   "cell_type": "code",
   "execution_count": null,
   "metadata": {},
   "outputs": [],
   "source": [
    "\n",
    "jn = (depotEncoder().encode(etd))\n",
    "ofile = open(outfile, \"w\")\n",
    "ofile.write(jn)\n",
    "ofile.close()"
   ]
  }
 ],
 "metadata": {
  "kernelspec": {
   "display_name": "Python 3.10.4 ('base')",
   "language": "python",
   "name": "python3"
  },
  "language_info": {
   "codemirror_mode": {
    "name": "ipython",
    "version": 3
   },
   "file_extension": ".py",
   "mimetype": "text/x-python",
   "name": "python",
   "nbconvert_exporter": "python",
   "pygments_lexer": "ipython3",
   "version": "3.10.4"
  },
  "orig_nbformat": 4,
  "vscode": {
   "interpreter": {
    "hash": "3b392867d34c15fd81efc0e6e696e723f38c9c666be2e1ec9dc6fdb1e725f84e"
   }
  }
 },
 "nbformat": 4,
 "nbformat_minor": 2
}
