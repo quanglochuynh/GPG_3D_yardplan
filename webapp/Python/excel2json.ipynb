{
 "cells": [
  {
   "cell_type": "code",
   "execution_count": 70,
   "metadata": {},
   "outputs": [],
   "source": [
    "import pandas as pd\n",
    "excel = pd.read_excel(\"/Users/lochuynhquang/Documents/GPG_3D_yardplan/webapp/data2/STD.xlsx\", index_col=None, header=5)\n",
    "\n",
    "class Container: \n",
    "    def __init__(self, contID, contSize, HangTau, Block, Bay, Row, Tier,):\n",
    "        self.ContID = contID\n",
    "        self.ContTypeSizeID = contSize\n",
    "        self.HangTauID = HangTau\n",
    "        self.Block = Block\n",
    "        self.Bay = Bay\n",
    "        self.Row = Row\n",
    "        self.Tier = Tier\n"
   ]
  },
  {
   "cell_type": "code",
   "execution_count": 71,
   "metadata": {},
   "outputs": [
    {
     "name": "stdout",
     "output_type": "stream",
     "text": [
      "           ContID  ContTareWeight  ContWeight ContYear  ContTypeSizeID  \\\n",
      "0     UACU3974963            2300       30480    09/13            2200   \n",
      "1     GPGU1106402            9868       30480    01/01            4500   \n",
      "2     GPGU5582027            3800       32500    01/11            4500   \n",
      "3     GPCU1205210            2120       30480    01/01            2200   \n",
      "4     EGHU3348899            2150       30480    06/18            2200   \n",
      "...           ...             ...         ...      ...             ...   \n",
      "3040  CAIU3879282            2200       30480    03/15            2200   \n",
      "3041  GLDU9829518            2180       30480    04/13            2200   \n",
      "3042  FCIU5253613            2180       30480    12/13            2200   \n",
      "3043  FBIU0371653            2100       30480    04/18            2200   \n",
      "3044  EISU2045540            2285       30480    06/13            2200   \n",
      "\n",
      "     HangTauID  Booking chỉ định  Cảng chỉ định Block    Area  ...  \\\n",
      "0          HLC               NaN            NaN   NaN     NaN  ...   \n",
      "1          GPC               NaN            NaN   NaN     NaN  ...   \n",
      "2          GPC               NaN            NaN   NaN     NaN  ...   \n",
      "3          GPC               NaN            NaN     A    KV-I  ...   \n",
      "4          EVG               NaN            NaN     F  KV-III  ...   \n",
      "...        ...               ...            ...   ...     ...  ...   \n",
      "3040       RCL               NaN            NaN     M  KV-III  ...   \n",
      "3041       RCL               NaN            NaN     M  KV-III  ...   \n",
      "3042       COS               NaN            NaN     M  KV-III  ...   \n",
      "3043       COS               NaN            NaN     N  KV-III  ...   \n",
      "3044       EVG               NaN            NaN     M  KV-III  ...   \n",
      "\n",
      "      Ngày hoàn thành PSC  Ngày báo giá  \\\n",
      "0                     NaT           NaT   \n",
      "1                     NaT           NaT   \n",
      "2                     NaT           NaT   \n",
      "3                     NaT           NaT   \n",
      "4                     NaT           NaT   \n",
      "...                   ...           ...   \n",
      "3040                  NaT           NaT   \n",
      "3041                  NaT           NaT   \n",
      "3042                  NaT           NaT   \n",
      "3043                  NaT           NaT   \n",
      "3044                  NaT           NaT   \n",
      "\n",
      "                                          Mô tả hư hỏng  \\\n",
      "0                                             ,NÔNG SẢN   \n",
      "1                                     ,CONT CHUYỂN RỖNG   \n",
      "2                             CONT BÌNH THƯỜNG, ,AO MUA   \n",
      "3                         CONT BÌNH THƯỜNG, ,ĐÓNG THÙNG   \n",
      "4                                CONT BÌNH THƯỜNG, ,NGÔ   \n",
      "...                                                 ...   \n",
      "3040                        CONT BÌNH THƯỜNG, ,PHÂN BÓN   \n",
      "3041                        CONT BÌNH THƯỜNG, ,PHÂN BÓN   \n",
      "3042                       rửa nước, ,DUNG CU CHOI GOLF   \n",
      "3043  xử lý bằng hóa chất, khử mùi, nứt 8 tôn vách 5...   \n",
      "3044                         CONT BÌNH THƯỜNG, ,VẢI SỢI   \n",
      "\n",
      "                      DateIn  \\\n",
      "0    2020-02-12 23:55:00.523   \n",
      "1    2021-01-28 09:03:26.170   \n",
      "2    2021-06-07 12:41:38.810   \n",
      "3    2022-02-28 13:42:43.907   \n",
      "4    2022-08-03 14:39:14.420   \n",
      "...                      ...   \n",
      "3040 2022-11-17 16:04:15.100   \n",
      "3041 2022-11-17 16:04:59.640   \n",
      "3042 2022-11-17 16:09:01.340   \n",
      "3043 2022-11-17 16:13:31.070   \n",
      "3044 2022-11-17 16:16:30.550   \n",
      "\n",
      "                                           GhiChuStock  Ghi chú chỉ định  \\\n",
      "0                                                  NaN               NaN   \n",
      "1               số cont cũ GPGU1106404 tts gpg cont vp               NaN   \n",
      "2     chuyển đổi từ cont GPGU5583023 thành GPGU5582027               NaN   \n",
      "3                                                  NaN               NaN   \n",
      "4                                                  NaN               NaN   \n",
      "...                                                ...               ...   \n",
      "3040                                               NaN               NaN   \n",
      "3041                                               NaN               NaN   \n",
      "3042                                               NaN               NaN   \n",
      "3043                                               NaN               NaN   \n",
      "3044                                               NaN               NaN   \n",
      "\n",
      "     TrangthaiInstock                                     Ghi chú GateIn  \\\n",
      "0                  AV                                                NaN   \n",
      "1             On hold  số cont cũ GPGU1106404 tts gpg cont vpsố cont ...   \n",
      "2             On hold  chuyển đổi từ cont GPGU5583023 thành GPGU55820...   \n",
      "3             On hold                                                NaN   \n",
      "4                  AV                                                NaN   \n",
      "...               ...                                                ...   \n",
      "3040          AV Lock                                                NaN   \n",
      "3041          AV Lock                                                NaN   \n",
      "3042          AV Lock                                                NaN   \n",
      "3043           Damage                                                NaN   \n",
      "3044          AV Lock                                                NaN   \n",
      "\n",
      "                                                 Remark BookingChiDinh  \n",
      "0     Cont không có trong bãi, đã help RM-báo cáo xá...            NaN  \n",
      "1                                               CONT VP            NaN  \n",
      "2                                           CONT KHO VT            NaN  \n",
      "3                                               CONT VP            NaN  \n",
      "4                                                   NaN            NaN  \n",
      "...                                                 ...            ...  \n",
      "3040                                                NaN            NaN  \n",
      "3041                                                NaN            NaN  \n",
      "3042                                                NaN            NaN  \n",
      "3043                                                NaN            NaN  \n",
      "3044                                                NaN            NaN  \n",
      "\n",
      "[3045 rows x 26 columns]\n"
     ]
    }
   ],
   "source": [
    "print(excel)"
   ]
  },
  {
   "cell_type": "code",
   "execution_count": 72,
   "metadata": {},
   "outputs": [
    {
     "name": "stdout",
     "output_type": "stream",
     "text": [
      "           ContID  ContTypeSizeID HangTauID Block   Bay   Row  Tier\n",
      "3     GPCU1205210            2200       GPC     A   1.0  10.0   1.0\n",
      "4     EGHU3348899            2200       EVG     F   2.0   1.0   1.0\n",
      "5     DRYU2686084            2200       EVG     F   2.0   1.0   2.0\n",
      "6     EGHU3368703            2200       EVG     F   2.0   1.0   3.0\n",
      "7     EGSU3085796            2200       EVG     F   2.0   1.0   4.0\n",
      "...           ...             ...       ...   ...   ...   ...   ...\n",
      "3040  CAIU3879282            2200       RCL     M   9.0   1.0   3.0\n",
      "3041  GLDU9829518            2200       RCL     M   9.0   2.0   1.0\n",
      "3042  FCIU5253613            2200       COS     M   5.0   8.0   3.0\n",
      "3043  FBIU0371653            2200       COS     N   5.0   3.0   1.0\n",
      "3044  EISU2045540            2200       EVG     M  17.0   2.0   4.0\n",
      "\n",
      "[3040 rows x 7 columns]\n"
     ]
    }
   ],
   "source": [
    "# excel = excel.drop(columns=['ContTareWeight','ContWeight',\t'ContYear',\t'Booking chỉ định',\t'Cảng chỉ định', 'Area'\t,\t'PhanLoaiID',\t'Phân loại đóng hàng',\t'SoNgayLuuBai',\t'Ngày hoàn thành PSC',\t'Ngày báo giá',\t'Mô tả hư hỏng',\t'Mô tả',\t'Description',\t'DateIn',\t'GhiChuStock',\t'Ghi chú chỉ định',\t'TrangthaiInstock',\t'Ghi chú GateIn',\t'Remark',\t'BookingChiDinh'])\n",
    "excel = excel.drop(columns=['ContTareWeight','ContWeight',\t'ContYear',\t'Booking chỉ định',\t'Cảng chỉ định', 'Area'\t,\t'PhanLoaiID',\t'Phân loại đóng hàng',\t'SoNgayLuuBai',\t'Ngày hoàn thành PSC',\t'Ngày báo giá',\t'Mô tả hư hỏng',\t'DateIn',\t'GhiChuStock',\t'Ghi chú chỉ định',\t'TrangthaiInstock',\t'Ghi chú GateIn',\t'Remark',\t'BookingChiDinh'])\n",
    "excel = excel.dropna(axis='rows')\n",
    "print(excel)"
   ]
  },
  {
   "cell_type": "code",
   "execution_count": 73,
   "metadata": {},
   "outputs": [],
   "source": [
    "cont = excel.values.tolist()\n",
    "cont_array = []\n",
    "for c in cont:\n",
    "    cont_array.append(Container(*c))"
   ]
  },
  {
   "cell_type": "code",
   "execution_count": 74,
   "metadata": {},
   "outputs": [
    {
     "name": "stdout",
     "output_type": "stream",
     "text": [
      "A - 520\n",
      "F - 301\n",
      "D - 5\n",
      "I - 703\n",
      "C - 299\n",
      "H - 619\n",
      "M - 386\n",
      "B - 88\n",
      "N - 91\n",
      "SC - 28\n",
      "\n",
      "\n",
      "GPC - 1\n",
      "EVG - 2144\n",
      "COS - 202\n",
      "RCL - 693\n"
     ]
    }
   ],
   "source": [
    "#Stat\n",
    "bay_name = []\n",
    "count_bay = []\n",
    "opt_name = []\n",
    "count_opt = []\n",
    "for i in range(len(cont_array)):\n",
    "    if (cont_array[i].Block == \"NaN\"):\n",
    "        cont_array.remove(i)\n",
    "        continue\n",
    "    if cont_array[i].Block in bay_name:\n",
    "        id_bay = bay_name.index(cont_array[i].Block)\n",
    "    else:\n",
    "        bay_name.append(cont_array[i].Block)\n",
    "        count_bay.append(0)\n",
    "        id_bay = len(bay_name)-1\n",
    "    count_bay[id_bay]+=1\n",
    "\n",
    "    if cont_array[i].HangTauID in opt_name:\n",
    "        id_opt = opt_name.index(cont_array[i].HangTauID)\n",
    "    else:\n",
    "        opt_name.append(cont_array[i].HangTauID)\n",
    "        count_opt.append(0)\n",
    "        id_opt = len(opt_name)-1\n",
    "    count_opt[id_opt] +=1\n",
    "\n",
    "for i in range(len(bay_name)):\n",
    "    print(bay_name[i], \"-\", count_bay[i])\n",
    "print(\"\\n\")\n",
    "for i in range(len(opt_name)):\n",
    "    print(opt_name[i], \"-\", count_opt[i])"
   ]
  },
  {
   "cell_type": "code",
   "execution_count": 75,
   "metadata": {},
   "outputs": [],
   "source": [
    "from json import JSONEncoder\n",
    "\n",
    "class depotEncoder(JSONEncoder):\n",
    "    def default(self, o):\n",
    "        return o.__dict__"
   ]
  },
  {
   "cell_type": "code",
   "execution_count": 76,
   "metadata": {},
   "outputs": [],
   "source": [
    "\n",
    "jn = (depotEncoder().encode(cont_array))\n",
    "\n",
    "outfile = \"../data2/cont2.json\"\n",
    "ofile = open(outfile, \"w\")\n",
    "ofile.write(jn)\n",
    "ofile.close()"
   ]
  }
 ],
 "metadata": {
  "kernelspec": {
   "display_name": "Python 3.10.4 ('base')",
   "language": "python",
   "name": "python3"
  },
  "language_info": {
   "codemirror_mode": {
    "name": "ipython",
    "version": 3
   },
   "file_extension": ".py",
   "mimetype": "text/x-python",
   "name": "python",
   "nbconvert_exporter": "python",
   "pygments_lexer": "ipython3",
   "version": "3.10.4"
  },
  "orig_nbformat": 4,
  "vscode": {
   "interpreter": {
    "hash": "3b392867d34c15fd81efc0e6e696e723f38c9c666be2e1ec9dc6fdb1e725f84e"
   }
  }
 },
 "nbformat": 4,
 "nbformat_minor": 2
}
