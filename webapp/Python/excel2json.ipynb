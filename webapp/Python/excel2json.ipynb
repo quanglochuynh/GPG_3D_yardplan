{
 "cells": [
  {
   "cell_type": "code",
   "execution_count": 1,
   "metadata": {},
   "outputs": [],
   "source": [
    "import pandas as pd\n",
    "excel = pd.read_excel(\"../data4/Container_In_Stock_110_20221114140320532.xlsx\", index_col=None, header=5)\n",
    "\n",
    "class Container: \n",
    "    def __init__(self, contID, contSize, HangTau, Block, Bay, Row, Tier,):\n",
    "        self.ContID = contID\n",
    "        self.ContTypeSizeID = contSize\n",
    "        self.HangTauID = HangTau\n",
    "        self.Block = Block\n",
    "        self.Bay = Bay\n",
    "        self.Row = Row\n",
    "        self.Tier = Tier\n",
    "        self.angle = 0"
   ]
  },
  {
   "cell_type": "code",
   "execution_count": 2,
   "metadata": {},
   "outputs": [
    {
     "name": "stdout",
     "output_type": "stream",
     "text": [
      "           ContID  ContTareWeight  ContWeight ContYear  ContTypeSizeID  \\\n",
      "0     GPGU1307412          3800.0     32500.0    00/00            9500   \n",
      "1     PONU3051882          4980.0     32500.0    03/02            9500   \n",
      "2     GPGU9209515          4000.0     32500.0    01/00            9500   \n",
      "3     GPGU8803456          3700.0     32500.0    01/00            4200   \n",
      "4     GPGU8972158          3700.0     32500.0    01/00            4200   \n",
      "...           ...             ...         ...      ...             ...   \n",
      "4711  TCNU3578338          3700.0     32500.0    02/17            4500   \n",
      "4712  BEAU4572146          3700.0     32500.0    01/17            4500   \n",
      "4713  APZU3793904          2220.0     30480.0    01/08            2200   \n",
      "4714  CMAU0332381          2190.0     30480.0    01/11            2200   \n",
      "4715  CMAU7717493          3700.0     32500.0    01/18            4500   \n",
      "\n",
      "     HangTauID  Booking chỉ định  Cảng chỉ định Block  Area  ...  \\\n",
      "0          GPC               NaN            NaN   F-C  KV-I  ...   \n",
      "1          GPC               NaN            NaN   VTT   VTT  ...   \n",
      "2          GPC               NaN            NaN   F-C  KV-I  ...   \n",
      "3          GPC               NaN            NaN   D-E  KV-I  ...   \n",
      "4          GPC               NaN            NaN   D-E  KV-I  ...   \n",
      "...        ...               ...            ...   ...   ...  ...   \n",
      "4711       COS               NaN            NaN    GJ   NaN  ...   \n",
      "4712       YML               NaN            NaN   D-B  KV-I  ...   \n",
      "4713       CMA               NaN            NaN   D-A  KV-I  ...   \n",
      "4714       CMA               NaN            NaN   D-A  KV-I  ...   \n",
      "4715       CMA               NaN            NaN   D-B  KV-I  ...   \n",
      "\n",
      "                                          Mô tả hư hỏng  \\\n",
      "0                   CONT BÌNH THƯỜNG, ,CONT CHUYỂN RỖNG   \n",
      "1                              Công hư hỏng nhiều,PALET   \n",
      "2                              CONT BÌNH THƯỜNG, ,PALET   \n",
      "3                     CONT BÌNH THƯỜNG, ,VĂN PHÒNG PHẨM   \n",
      "4                     CONT BÌNH THƯỜNG, ,VĂN PHÒNG PHẨM   \n",
      "...                                                 ...   \n",
      "4711                       CONT BÌNH THƯỜNG, ,ĐÓNG KIỆN   \n",
      "4712  rửa nước, rách 1 đà ngang trên cửa 15cm dh2n ,...   \n",
      "4713  xử lý bằng hóa chất, sàn thấm dầu, khử mùi, th...   \n",
      "4714  xử lý bằng hóa chất, sàn thấm dầu, khử mùi, nâ...   \n",
      "4715  rửa nước, lõm 1 tôn vách 3corrugated lx45 ,HAT...   \n",
      "\n",
      "                                                  Mô tả  \\\n",
      "0                                     CONT BÌNH THƯỜNG,   \n",
      "1                                     CONT BÌNH THƯỜNG,   \n",
      "2                                     CONT BÌNH THƯỜNG,   \n",
      "3                                     CONT BÌNH THƯỜNG,   \n",
      "4                                     CONT BÌNH THƯỜNG,   \n",
      "...                                                 ...   \n",
      "4711                                  CONT BÌNH THƯỜNG,   \n",
      "4712  rửa nước, rách 1 đà ngang trên cửa 15cm dh2n ,...   \n",
      "4713  xử lý bằng hóa chất, sàn thấm dầu, khử mùi, th...   \n",
      "4714  xử lý bằng hóa chất, sàn thấm dầu, khử mùi, nâ...   \n",
      "4715          rửa nước, lõm 1 tôn vách 3corrugated lx45   \n",
      "\n",
      "                                            Description  \\\n",
      "0                                     CONT BÌNH THƯỜNG,   \n",
      "1                                     CONT BÌNH THƯỜNG,   \n",
      "2                                     CONT BÌNH THƯỜNG,   \n",
      "3                                     CONT BÌNH THƯỜNG,   \n",
      "4                                     CONT BÌNH THƯỜNG,   \n",
      "...                                                 ...   \n",
      "4711                                  CONT BÌNH THƯỜNG,   \n",
      "4712  wash water, cut 1 rear header 15cm dh2n , cut ...   \n",
      "4713  chemical wash, oil absorbent floor, deodorant,...   \n",
      "4714  chemical wash, oil absorbent floor, deodorant,...   \n",
      "4715     wash water, dent 1 side panel 3corrugated lx45   \n",
      "\n",
      "                      DateIn  \\\n",
      "0    2021-03-22 16:13:15.450   \n",
      "1    2021-05-11 14:16:12.430   \n",
      "2    2021-05-26 16:39:55.830   \n",
      "3    2021-09-27 18:52:04.490   \n",
      "4    2021-09-27 18:52:11.450   \n",
      "...                      ...   \n",
      "4711 2022-11-14 13:46:40.720   \n",
      "4712 2022-11-14 13:49:27.483   \n",
      "4713 2022-11-14 13:51:30.743   \n",
      "4714 2022-11-14 13:52:03.633   \n",
      "4715 2022-11-14 13:54:25.547   \n",
      "\n",
      "                                            GhiChuStock  Ghi chú chỉ định  \\\n",
      "0     CONT BẠC BNP CHUYỂN RÕNG TỪ STD VỀ CLD CHỈ ĐẠO...               NaN   \n",
      "1          CHI DAO HẠ MR TÂN +MR TUẤN CONT CCCL GPG MUA               NaN   \n",
      "2               CHONT CHUYEN TỪ STD VỀ CLD LAM DÀNG PTI               NaN   \n",
      "3                                                   NaN               NaN   \n",
      "4                                                   NaN               NaN   \n",
      "...                                                 ...               ...   \n",
      "4711                                                NaN               NaN   \n",
      "4712                                                NaN               NaN   \n",
      "4713                                                NaN               NaN   \n",
      "4714                                                NaN               NaN   \n",
      "4715                                                NaN               NaN   \n",
      "\n",
      "     TrangthaiInstock                                     Ghi chú GateIn  \\\n",
      "0             On hold  CONT BẠC BNP CHUYỂN RÕNG TỪ STD VỀ CLD CHỈ ĐẠO...   \n",
      "1             On hold  CHI DAO HẠ MR TÂN +MR TUẤN CONT CCCL GPG MUACH...   \n",
      "2             On hold  CHONT CHUYEN TỪ STD VỀ CLD LAM DÀNG PTICHONT C...   \n",
      "3             On hold                                                NaN   \n",
      "4             On hold                                                NaN   \n",
      "...               ...                                                ...   \n",
      "4711          AV Lock                                                NaN   \n",
      "4712           Damage                                                NaN   \n",
      "4713           Damage                                                NaN   \n",
      "4714           Damage                                                NaN   \n",
      "4715           Damage                                                NaN   \n",
      "\n",
      "                                                 Remark BookingChiDinh  \n",
      "0        Xuyền cont đang làm giàn PTI > cont đã hư hỏng            NaN  \n",
      "1     Cont cửa lùa sửa cont coca đặt xưởng gỗ (xuyền...            NaN  \n",
      "2        Xuyền cont đang làm giàn PTI > cont đã hư hỏng            NaN  \n",
      "3     Cont 40 thấp văn phòng Nhị + Kỹ thuật xe nâng ...            NaN  \n",
      "4     Cont 40 thấp văn phòng Nhị + Kỹ thuật xe nâng ...            NaN  \n",
      "...                                                 ...            ...  \n",
      "4711                                                NaN            NaN  \n",
      "4712                                                NaN            NaN  \n",
      "4713                                                NaN            NaN  \n",
      "4714                                                NaN            NaN  \n",
      "4715                                                NaN            NaN  \n",
      "\n",
      "[4716 rows x 28 columns]\n"
     ]
    }
   ],
   "source": [
    "print(excel)"
   ]
  },
  {
   "cell_type": "code",
   "execution_count": 3,
   "metadata": {},
   "outputs": [
    {
     "name": "stdout",
     "output_type": "stream",
     "text": [
      "           ContID  ContTypeSizeID HangTauID Block  Bay  Row  Tier\n",
      "1     PONU3051882            9500       GPC   VTT    1    5     1\n",
      "2     GPGU9209515            9500       GPC   F-C   51    1     2\n",
      "3     GPGU8803456            4200       GPC   D-E    1    2     1\n",
      "4     GPGU8972158            4200       GPC   D-E    1    3     1\n",
      "5     GPGU4204763            4200       GPC   D-E    1    1     1\n",
      "...           ...             ...       ...   ...  ...  ...   ...\n",
      "4711  TCNU3578338            4500       COS    GJ   22    9     6\n",
      "4712  BEAU4572146            4500       YML   D-B   26    3     1\n",
      "4713  APZU3793904            2200       CMA   D-A   25    2     5\n",
      "4714  CMAU0332381            2200       CMA   D-A   25    3     1\n",
      "4715  CMAU7717493            4500       CMA   D-B   26   11     3\n",
      "\n",
      "[4715 rows x 7 columns]\n"
     ]
    }
   ],
   "source": [
    "excel = excel.drop(columns=['ContTareWeight','ContWeight',\t'ContYear',\t'Booking chỉ định',\t'Cảng chỉ định', 'Area'\t,\t'PhanLoaiID',\t'Phân loại đóng hàng',\t'SoNgayLuuBai',\t'Ngày hoàn thành PSC',\t'Ngày báo giá',\t'Mô tả hư hỏng',\t'Mô tả',\t'Description',\t'DateIn',\t'GhiChuStock',\t'Ghi chú chỉ định',\t'TrangthaiInstock',\t'Ghi chú GateIn',\t'Remark',\t'BookingChiDinh'])\n",
    "excel = excel.drop([0], axis=0)\n",
    "print(excel)"
   ]
  },
  {
   "cell_type": "code",
   "execution_count": 4,
   "metadata": {},
   "outputs": [],
   "source": [
    "cont = excel.values.tolist()\n",
    "cont_array = []\n",
    "for c in cont:\n",
    "    cont_array.append(Container(*c))"
   ]
  },
  {
   "cell_type": "code",
   "execution_count": 5,
   "metadata": {},
   "outputs": [
    {
     "name": "stdout",
     "output_type": "stream",
     "text": [
      "GPGU9209515\n"
     ]
    }
   ],
   "source": [
    "print(cont_array[1].ContID)"
   ]
  },
  {
   "cell_type": "code",
   "execution_count": 6,
   "metadata": {},
   "outputs": [],
   "source": [
    "from json import JSONEncoder\n",
    "\n",
    "class depotEncoder(JSONEncoder):\n",
    "    def default(self, o):\n",
    "        return o.__dict__"
   ]
  },
  {
   "cell_type": "code",
   "execution_count": 7,
   "metadata": {},
   "outputs": [],
   "source": [
    "\n",
    "jn = (depotEncoder().encode(cont_array))\n",
    "\n",
    "outfile = \"../data/cont4json\"\n",
    "ofile = open(outfile, \"w\")\n",
    "ofile.write(jn)\n",
    "ofile.close()"
   ]
  },
  {
   "cell_type": "code",
   "execution_count": null,
   "metadata": {},
   "outputs": [],
   "source": []
  }
 ],
 "metadata": {
  "kernelspec": {
   "display_name": "Python 3.10.4 ('base')",
   "language": "python",
   "name": "python3"
  },
  "language_info": {
   "codemirror_mode": {
    "name": "ipython",
    "version": 3
   },
   "file_extension": ".py",
   "mimetype": "text/x-python",
   "name": "python",
   "nbconvert_exporter": "python",
   "pygments_lexer": "ipython3",
   "version": "3.10.4"
  },
  "orig_nbformat": 4,
  "vscode": {
   "interpreter": {
    "hash": "3b392867d34c15fd81efc0e6e696e723f38c9c666be2e1ec9dc6fdb1e725f84e"
   }
  }
 },
 "nbformat": 4,
 "nbformat_minor": 2
}
