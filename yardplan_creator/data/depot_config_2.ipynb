{
 "cells": [
  {
   "cell_type": "code",
   "execution_count": 92,
   "metadata": {},
   "outputs": [],
   "source": [
    "import sys\n",
    "sys.path.append(\"/Users/lochuynhquang/Documents/GPG_3D_yardplan/yardplan_creator\")\n",
    "from gpg import *\n",
    "\n",
    "outfile = \"./etdv2.json\""
   ]
  },
  {
   "cell_type": "code",
   "execution_count": 97,
   "metadata": {},
   "outputs": [],
   "source": [
    "etd_layout = Layout(\"General\",\"./etdv1.svg\");\n",
    "etd_layout.scale(cox=2, coy=2);\n",
    "# etd_layout.translate(-400, -1700);\n",
    "\n",
    "# etd_layout.shape[0].visible = 0.2\n",
    "# etd_layout.shape[1].visible = 0.2\n",
    "# etd_layout.shape[2].visible = 0.2\n",
    "# etd_layout.shape[3].visible = 0.2\n",
    "# etd_layout.shape[4].visible = 0\n",
    "etd_layout.shape[9].visible = 0\n",
    "etd_layout.shape[10].visible = 0\n",
    "etd_layout.shape[11].visible = 0\n",
    "\n",
    "\n",
    "\n",
    "btn0 = Button(etd_layout.shape[10].seq[1], \"Area 1\", angle=0);\n",
    "btn1 = Button(etd_layout.shape[11].seq[2], \"Area 2\", angle=0.05235987755982988);\n",
    "\n",
    "ground0 = Ground(0,8, offsetX=etd_layout.shape[0].seq[8].x, offsetY=etd_layout.shape[0].seq[8].y, offsetZ=0, height=1080, width=1210, button=btn0, angle=0)\n",
    "ground1 = Ground(1,1, offsetX=etd_layout.shape[8].seq[1].x, offsetY=etd_layout.shape[8].seq[1].y, offsetZ=0, height=740, width=1400, button=btn1, angle=0.05235987755982988)\n",
    "\n",
    "\n",
    "# add warehouse here\n",
    "wh1 = House(0, \"Kho 1\", etd_layout.shape[2],0,2,200,0.05235987755982988)\n",
    "wh2 = House(0, \"kho 2\", etd_layout.shape[3],2,0, 200, 0.05235987755982988)\n",
    "wh3 = House(0, \"Nha Kho\", etd_layout.shape[4], 3,1,100,0.05235987755982988)\n",
    "h4 = House(0, \"ruacont\", etd_layout.shape[5], 3,1,100,0.05235987755982988)\n",
    "h5 = House(0, \"ruacont\", etd_layout.shape[6], 3,1,100,0.05235987755982988)\n",
    "h6 = House(0, \"ruacont\", etd_layout.shape[7], 3,1,100,0.05235987755982988)\n",
    "h7 = House(0, \"ruacont\", etd_layout.shape[8], 3,1,100,0.05235987755982988)\n",
    "h8 = House(0, \"ruacont\", etd_layout.shape[9], 3,1,100,0.05235987755982988)\n",
    "\n",
    "std = Depot(\"e-Depot Tân Bình\", etd_layout, ground=[ground0, ground1], house=[wh1, wh2, wh3, h4,h5,h6,h7], container_scale=4.2*(2/3), scale=0.4)"
   ]
  },
  {
   "cell_type": "code",
   "execution_count": 98,
   "metadata": {},
   "outputs": [],
   "source": [
    "jn = (depotEncoder().encode(std))\n",
    "ofile = open(outfile, \"w\")\n",
    "ofile.write(jn)\n",
    "ofile.close()"
   ]
  }
 ],
 "metadata": {
  "kernelspec": {
   "display_name": "Python 3.10.4 ('base')",
   "language": "python",
   "name": "python3"
  },
  "language_info": {
   "codemirror_mode": {
    "name": "ipython",
    "version": 3
   },
   "file_extension": ".py",
   "mimetype": "text/x-python",
   "name": "python",
   "nbconvert_exporter": "python",
   "pygments_lexer": "ipython3",
   "version": "3.10.4"
  },
  "orig_nbformat": 4,
  "vscode": {
   "interpreter": {
    "hash": "3b392867d34c15fd81efc0e6e696e723f38c9c666be2e1ec9dc6fdb1e725f84e"
   }
  }
 },
 "nbformat": 4,
 "nbformat_minor": 2
}
