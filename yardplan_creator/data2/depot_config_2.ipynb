{
 "cells": [
  {
   "cell_type": "code",
   "execution_count": 995,
   "metadata": {},
   "outputs": [],
   "source": [
    "import sys\n",
    "sys.path.append(\"/Users/lochuynhquang/Documents/GPG_3D_yardplan/yardplan_creator\")\n",
    "from gpg import *\n",
    "\n",
    "outfile = \"./std.json\""
   ]
  },
  {
   "cell_type": "code",
   "execution_count": 1002,
   "metadata": {},
   "outputs": [],
   "source": [
    "std_layout = Layout(\"General\",\"./std.svg\")\n",
    "std_layout.scale(cox=3, coy=3)\n",
    "std_layout.translate(-400, -1700)\n",
    "\n",
    "std_layout.shape[0].visible = 0.2\n",
    "std_layout.shape[1].visible = 0.2\n",
    "std_layout.shape[2].visible = 0.2\n",
    "std_layout.shape[3].visible = 0.2\n",
    "std_layout.shape[4].visible = 0.2\n",
    "std_layout.shape[5].visible = 0\n",
    "std_layout.shape[6].visible = 0\n",
    "\n",
    "#button\n",
    "std_layout.shape[12].visible = 0\n",
    "std_layout.shape[13].visible = 0\n",
    "std_layout.shape[14].visible = 0\n",
    "std_layout.shape[15].visible = 0\n",
    "std_layout.shape[16].visible = 0\n",
    "\n",
    "\n",
    "btn0 = Button(std_layout.shape[12].seq[1], \"Area 1\", angle=-0.44378560551852564);\n",
    "btn1 = Button(std_layout.shape[13].seq[1], \"Area 2\", angle=0.7549448708775051);\n",
    "btn2 = Button(std_layout.shape[14].seq[1], \"Area 3\", angle=math.pi/2);\n",
    "btn3 = Button(std_layout.shape[15].seq[1], \"Area 4\", angle=1.2217304763960306);\n",
    "btn4 = Button(std_layout.shape[16].seq[1], \"Area 5\", angle=-0.8158514559173915);\n",
    "\n",
    "\n",
    "ground0 = Ground(0,4, offsetX=-550, offsetY=-900, offsetZ=0, angle=1.127010721276371, button=btn0, height=840, width=460);\n",
    "ground1 = Ground(2,3, offsetX=679, offsetY=-1680, offsetZ=0, angle=-0.8158514559173915, height=440, width=260, button=btn1)\n",
    "ground2 = Ground(1,0, offsetX=std_layout.shape[0].seq[4].x, offsetY=std_layout.shape[0].seq[4].y, height=820, width=1400, offsetZ=0, angle=0, button=btn2)\n",
    "ground3 = Ground(3,0, offsetX=std_layout.shape[3].seq[0].x, offsetY=std_layout.shape[3].seq[0].y, height=480, width=300, offsetZ=0, angle=-0.3490658503988659, button=btn3)\n",
    "ground4 = Ground(4,0, offsetX=std_layout.shape[16].seq[2].x, offsetY=std_layout.shape[16].seq[2].y, height=600, width=800, offsetZ=0, angle=-0.8158514559173915, button=btn4)\n",
    "\n",
    "# add warehouse here\n",
    "wh1 = House(0, \"Kho 1\", std_layout.shape[8],0,2,200,0.05235987755982988)\n",
    "wh2 = House(0, \"kho 2\", std_layout.shape[9],2,0, 200, 0.05235987755982988)\n",
    "wh3 = House(0, \"Nha Kho\", std_layout.shape[10], 3,1,100,0.05235987755982988)\n",
    "h4 = House(0, \"Nha Kho\", std_layout.shape[11], 3,1,100,0.05235987755982988)\n",
    "# ruaCont = House(2, \"Rua container\", std_layout.shape[4],3,1,20, offsetX=34, offsetY=-74)\n",
    "std = Depot(\"Song Than Depot\", std_layout, ground=[ground0, ground1, ground2, ground3, ground4], house=[wh1, wh2, wh3, h4], container_scale=2.1, scale=0.4)\n",
    "# etd = Depot(\"etd\", std_layout, ground=[ground1, ground2], offset=Point(-450,300), house=[wh1, wh2, wh3, ruaCont],container_scale=4.25, scale=0.4)"
   ]
  },
  {
   "cell_type": "code",
   "execution_count": 1003,
   "metadata": {},
   "outputs": [],
   "source": [
    "jn = (depotEncoder().encode(std))\n",
    "ofile = open(outfile, \"w\")\n",
    "ofile.write(jn)\n",
    "ofile.close()"
   ]
  }
 ],
 "metadata": {
  "kernelspec": {
   "display_name": "Python 3.10.4 ('base')",
   "language": "python",
   "name": "python3"
  },
  "language_info": {
   "codemirror_mode": {
    "name": "ipython",
    "version": 3
   },
   "file_extension": ".py",
   "mimetype": "text/x-python",
   "name": "python",
   "nbconvert_exporter": "python",
   "pygments_lexer": "ipython3",
   "version": "3.10.4"
  },
  "orig_nbformat": 4,
  "vscode": {
   "interpreter": {
    "hash": "3b392867d34c15fd81efc0e6e696e723f38c9c666be2e1ec9dc6fdb1e725f84e"
   }
  }
 },
 "nbformat": 4,
 "nbformat_minor": 2
}
