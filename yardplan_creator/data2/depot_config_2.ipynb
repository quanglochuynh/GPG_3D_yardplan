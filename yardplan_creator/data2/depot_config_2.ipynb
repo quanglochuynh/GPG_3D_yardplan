{
 "cells": [
  {
   "cell_type": "code",
   "execution_count": 1,
   "metadata": {},
   "outputs": [],
   "source": [
    "import sys\n",
    "sys.path.append(\"/Users/lochuynhquang/Documents/GPG_3D_yardplan\")\n",
    "from gpg import *"
   ]
  },
  {
   "cell_type": "code",
   "execution_count": 2,
   "metadata": {},
   "outputs": [],
   "source": [
    "std_layout = Layout(\"./std.svg\")\n",
    "std_layout.scale(cox=6, coy=6)\n",
    "\n",
    "c = 2\n",
    "\n",
    "std_layout.shape[0].visible = 0.2\n",
    "std_layout.shape[1].visible = 0.2\n",
    "std_layout.shape[2].visible = 0.2\n",
    "std_layout.shape[3].visible = 0.2\n",
    "std_layout.shape[4].visible = 0.2\n",
    "std_layout.shape[5].visible = 0\n",
    "std_layout.shape[6].visible = 0\n",
    "\n",
    "#button\n",
    "std_layout.shape[12].visible = 0\n",
    "std_layout.shape[13].visible = 0\n",
    "std_layout.shape[14].visible = 0\n",
    "std_layout.shape[15].visible = 0\n",
    "std_layout.shape[16].visible = 0\n",
    "\n",
    "\n",
    "btn0 = Button(std_layout.shape[12].seq[1], \"Area 1\", angle=-0.44378560551852564)\n",
    "btn1 = Button(std_layout.shape[13].seq[1], \"Area 2\", angle=0.7549448708775051)\n",
    "btn2 = Button(std_layout.shape[14].seq[1], \"Area 3\", angle=math.pi/2)\n",
    "btn3 = Button(std_layout.shape[15].seq[1], \"Area 4\", angle=1.2217304763960306)\n",
    "btn4 = Button(std_layout.shape[16].seq[1], \"Area 1b\", angle=-0.8158514559173915)\n",
    "\n",
    "s=4.025\n",
    "s2=2.4\n",
    "# ground0 = Ground(0,4, offsetX=std_layout.shape[0].seq[4].x-100*s, offsetY=std_layout.shape[0].seq[4].y+208*s, offsetZ=0, angle=1.127010721276371, button=btn0, height=840*c, width=460*c);\n",
    "\n",
    "ground0 = Ground(0, offsetX=std_layout.shape[0].seq[4].x-402, offsetY=std_layout.shape[0].seq[4].y+837, height=1680, width=920,  angle=1.127010721276371, button=btn0)\n",
    "ground1 = Ground(2, offsetX=std_layout.shape[3].seq[4].x+110, offsetY=std_layout.shape[3].seq[4].y-86,  height=880,  width=680,  angle=-0.8158514559173915, button=btn1)\n",
    "ground2 = Ground(1, offsetX=std_layout.shape[0].seq[4].x, offsetY=std_layout.shape[0].seq[4].y,         height=1640, width=2800, angle=0, button=btn2)\n",
    "ground3 = Ground(3, offsetX=std_layout.shape[3].seq[0].x, offsetY=std_layout.shape[3].seq[0].y,         height=960,  width=600,  angle=-0.3490658503988659, button=btn3)\n",
    "ground4 = Ground(4, offsetX=std_layout.shape[16].seq[2].x, offsetY=std_layout.shape[16].seq[2].y,       height=1200, width=1600, angle=-0.8158514559173915, button=btn4)\n",
    "\n",
    "# add warehouse here\n",
    "gatein = House(0, \"Kho 1\", std_layout.shape[8])\n",
    "gateout = House(0, \"kho 2\", std_layout.shape[9])\n",
    "vanphong = House(0, \"Nha Kho\", std_layout.shape[10])\n",
    "pccc = House(0, \"Nha Kho\", std_layout.shape[11])\n",
    "\n",
    "std = Depot(\"Song Than Depot\", std_layout, ground=[ground0, ground1, ground2, ground3, ground4], house=[gatein, gateout, vanphong, pccc], container_scale=2*c, scale=0.4, defaultGround=2)\n"
   ]
  },
  {
   "cell_type": "code",
   "execution_count": 3,
   "metadata": {},
   "outputs": [],
   "source": [
    "jn = (depotEncoder().encode(std))\n",
    "ofile = open(\"./std.json\", \"w\")\n",
    "ofile.write(jn)\n",
    "ofile.close()"
   ]
  }
 ],
 "metadata": {
  "kernelspec": {
   "display_name": "Python 3.10.4 ('base')",
   "language": "python",
   "name": "python3"
  },
  "language_info": {
   "codemirror_mode": {
    "name": "ipython",
    "version": 3
   },
   "file_extension": ".py",
   "mimetype": "text/x-python",
   "name": "python",
   "nbconvert_exporter": "python",
   "pygments_lexer": "ipython3",
   "version": "3.10.4"
  },
  "orig_nbformat": 4,
  "vscode": {
   "interpreter": {
    "hash": "3b392867d34c15fd81efc0e6e696e723f38c9c666be2e1ec9dc6fdb1e725f84e"
   }
  }
 },
 "nbformat": 4,
 "nbformat_minor": 2
}
