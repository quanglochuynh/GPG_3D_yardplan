{
 "cells": [
  {
   "cell_type": "code",
   "execution_count": 1,
   "metadata": {},
   "outputs": [],
   "source": [
    "import sys\n",
    "sys.path.append(\"/Users/lochuynhquang/Documents/GPG_3D_yardplan/yardplan_creator\")\n",
    "from gpg import *\n",
    "\n",
    "outfile = \"./cld.json\""
   ]
  },
  {
   "cell_type": "code",
   "execution_count": 2,
   "metadata": {},
   "outputs": [
    {
     "data": {
      "text/plain": [
       "1.7451547190691301"
      ]
     },
     "execution_count": 2,
     "metadata": {},
     "output_type": "execute_result"
    }
   ],
   "source": [
    "(99.99/360)*(2*math.pi)"
   ]
  },
  {
   "cell_type": "code",
   "execution_count": 3,
   "metadata": {},
   "outputs": [
    {
     "name": "stdout",
     "output_type": "stream",
     "text": [
      "x1=\"617\" y1=\"674\" x2=\"578\" y2=\"455\"\n",
      "617\n",
      "674\n",
      "578\n",
      "455\n",
      "x1=\"578\" y1=\"455\" x2=\"799\" y2=\"421\"\n",
      "578\n",
      "455\n",
      "799\n",
      "421\n",
      "x1=\"567\" y1=\"391\" x2=\"539\" y2=\"234\"\n",
      "567\n",
      "391\n",
      "539\n",
      "234\n",
      "x1=\"72\" y1=\"215\" x2=\"44\" y2=\"431\"\n",
      "72\n",
      "215\n",
      "44\n",
      "431\n",
      "x1=\"361\" y1=\"373\" x2=\"75\" y2=\"339\"\n",
      "361\n",
      "373\n",
      "75\n",
      "339\n",
      "x1=\"617\" y1=\"674\" x2=\"822\" y2=\"638\"\n",
      "617\n",
      "674\n",
      "822\n",
      "638\n",
      "x1=\"592\" y1=\"530\" x2=\"796\" y2=\"494\"\n",
      "592\n",
      "530\n",
      "796\n",
      "494\n"
     ]
    }
   ],
   "source": [
    "cld_layout = Layout(\"General\",\"./cld.svg\")\n",
    "cld_layout.scale(cox=1.4, coy=1.4)\n",
    "# cld_layout.translate(-400, -1700)\n",
    "\n",
    "cld_layout.shape[1].visible = 0.2\n",
    "cld_layout.shape[2].visible = 0.2\n",
    "cld_layout.shape[12].visible = 0.2\n",
    "#button\n",
    "cld_layout.shape[15].visible = 0\n",
    "cld_layout.shape[16].visible = 0\n",
    "#house\n",
    "cld_layout.shape[3].visible = 0\n",
    "cld_layout.shape[4].visible = 0\n",
    "cld_layout.shape[5].visible = 0\n",
    "cld_layout.shape[6].visible = 0\n",
    "cld_layout.shape[7].visible = 0\n",
    "cld_layout.shape[8].visible = 0\n",
    "cld_layout.shape[9].visible = 0\n",
    "cld_layout.shape[10].visible = 0\n",
    "cld_layout.shape[11].visible = 0\n",
    "\n",
    "btn0 = Button(cld_layout.shape[16].seq[2], \"Area 1\", angle=0.17545794970298995+math.pi/2);\n",
    "btn1 = Button(cld_layout.shape[15].seq[2], \"Area 2\", angle=-0.1218239817892045+math.pi/2);\n",
    "btn2 = Button(cld_layout.shape[13].seq[0], \"Area 3\", angle=1.7451547190691301);\n",
    "btn3 = Button(cld_layout.shape[14].seq[1], \"Area 4\", angle=-0.12911945806254094+math.pi/2);\n",
    "# btn4 = Button(cld_layout.shape[18].seq[1], \"Area 2a\", angle=0.05462880558742251);\n",
    "# btn6 = Button(cld_layout.shape[20].seq[1], \"Area 2c\", angle=-1.4809118703171884);\n",
    "\n",
    "ground0 = Ground(2,4, offsetX=cld_layout.shape[2].seq[0].x, offsetY=cld_layout.shape[2].seq[0].y, offsetZ=0, angle=0.17545794970298995+math.pi/2, button=btn0, height=315, width=1035);\n",
    "ground1 = Ground(1,3, offsetX=cld_layout.shape[1].seq[2].x, offsetY=cld_layout.shape[1].seq[2].y, offsetZ=0, angle=-0.1218239817892045+math.pi/2, height=720, width=360, button=btn1)\n",
    "ground2 = Ground(13,0, offsetX=cld_layout.shape[13].seq[1].x, offsetY=cld_layout.shape[13].seq[1].y, height=280, width=320, offsetZ=0, angle=-0.18207274756804875+math.pi/2, button=btn2)\n",
    "ground3 = Ground(14,0, offsetX=cld_layout.shape[14].seq[0].x, offsetY=cld_layout.shape[14].seq[0].y, height=160, width=160, offsetZ=0, angle=-0.12911945806254094+math.pi/2, button=btn3)\n",
    "# ground4 = Ground(2,0, offsetX=cld_layout.shape[2].seq[0].x, offsetY=cld_layout.shape[2].seq[0].y, height=300, width=700, offsetZ=0, angle=0.05462880558742251, button=btn4)\n",
    "# ground6 = Ground(2,0, offsetX=cld_layout.shape[2].seq[0].x, offsetY=cld_layout.shape[2].seq[0].y, height=320, width=700, offsetZ=0, angle=0.08988445647770797, button=btn6)\n",
    "\n",
    "# # add warehouse here\n",
    "h1 = House(0, \"house 1\", cld_layout.shape[3],0,2,200,0.05235987755982988)\n",
    "h2 = House(0, \"house 2\", cld_layout.shape[4],0,2,200,0.05235987755982988)\n",
    "h3 = House(0, \"house 3\", cld_layout.shape[5],0,2,200,0.05235987755982988)\n",
    "h4 = House(0, \"house 4\", cld_layout.shape[6],0,2,200,0.05235987755982988)\n",
    "h5 = House(0, \"house 5\", cld_layout.shape[7],0,2,200,0.05235987755982988)\n",
    "# h6 = House(0, \"house 6\", cld_layout.shape[8],0,2,200,0.05235987755982988)\n",
    "h7 = House(0, \"house 7\", cld_layout.shape[9],0,2,200,0.05235987755982988)\n",
    "# h8 = House(0, \"house 8\", cld_layout.shape[10],0,2,200,0.05235987755982988)\n",
    "# h9 = House(0, \"house 9\", cld_layout.shape[11],0,2,200,0.05235987755982988)\n",
    "# h10 = House(0, \"house 10\", cld_layout.shape[12],0,2,200,0.05235987755982988)\n",
    "# h11 = House(0, \"house 11\", cld_layout.shape[13],0,2,200,0.05235987755982988)\n",
    "# ruaCont = House(2, \"Rua container\", cld_layout.shape[4],3,1,20, offsetX=34, offsetY=-74)\n",
    "cld = Depot(\"Chân Thật Long Thạnh Mỹ Depot\", cld_layout, ground=[ground0, ground1, ground2, ground3], house=[h1,h2,h3,h4,h5,h7], container_scale=0.7)\n",
    "# etd = Depot(\"etd\", cld_layout, ground=[ground1, ground2], offset=Point(-450,300), house=[wh1, wh2, wh3, ruaCont],container_scale=4.25, scale=0.4)"
   ]
  },
  {
   "cell_type": "code",
   "execution_count": 4,
   "metadata": {},
   "outputs": [],
   "source": [
    "jn = (depotEncoder().encode(cld))\n",
    "ofile = open(outfile, \"w\")\n",
    "ofile.write(jn)\n",
    "ofile.close()"
   ]
  }
 ],
 "metadata": {
  "kernelspec": {
   "display_name": "Python 3.10.4 ('base')",
   "language": "python",
   "name": "python3"
  },
  "language_info": {
   "codemirror_mode": {
    "name": "ipython",
    "version": 3
   },
   "file_extension": ".py",
   "mimetype": "text/x-python",
   "name": "python",
   "nbconvert_exporter": "python",
   "pygments_lexer": "ipython3",
   "version": "3.10.4"
  },
  "orig_nbformat": 4,
  "vscode": {
   "interpreter": {
    "hash": "3b392867d34c15fd81efc0e6e696e723f38c9c666be2e1ec9dc6fdb1e725f84e"
   }
  }
 },
 "nbformat": 4,
 "nbformat_minor": 2
}
