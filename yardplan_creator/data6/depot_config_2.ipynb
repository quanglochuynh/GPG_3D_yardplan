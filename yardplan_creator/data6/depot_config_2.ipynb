{
 "cells": [
  {
   "cell_type": "code",
   "execution_count": 187,
   "metadata": {},
   "outputs": [],
   "source": [
    "import sys\n",
    "sys.path.append(\"/Users/lochuynhquang/Documents/GPG_3D_yardplan/\")\n",
    "from gpg import *\n",
    "\n",
    "outfile = \"./ctc.json\""
   ]
  },
  {
   "cell_type": "code",
   "execution_count": 191,
   "metadata": {},
   "outputs": [
    {
     "data": {
      "text/plain": [
       "-23.329000000000008"
      ]
     },
     "execution_count": 191,
     "metadata": {},
     "output_type": "execute_result"
    }
   ],
   "source": [
    "336.671-360"
   ]
  },
  {
   "cell_type": "markdown",
   "metadata": {},
   "source": [
    "3.63"
   ]
  },
  {
   "cell_type": "code",
   "execution_count": 189,
   "metadata": {},
   "outputs": [],
   "source": [
    "ctc_layout = Layout(\"./ctc.svg\")\n",
    "ctc_layout.scale(cox=3, coy=3)\n",
    "# ctc_layout.translate(-400, -1700)\n",
    "\n",
    "ctc_layout.shape[3].visible = 0\n",
    "ctc_layout.shape[14].visible = 0\n",
    "ctc_layout.shape[15].visible = 0\n",
    "ctc_layout.shape[16].visible = 0\n",
    "\n",
    "# #button\n",
    "ctc_layout.shape[6].visible = 0\n",
    "ctc_layout.shape[7].visible = 0\n",
    "ctc_layout.shape[8].visible = 0\n",
    "ctc_layout.shape[9].visible = 0\n",
    "ctc_layout.shape[10].visible = 0\n",
    "ctc_layout.shape[11].visible = 0\n",
    "ctc_layout.shape[12].visible = 0\n",
    "ctc_layout.shape[13].visible = 0\n",
    "\n",
    "# #house\n",
    "ctc_layout.shape[3].visible = 0\n",
    "ctc_layout.shape[4].visible = 0\n",
    "ctc_layout.shape[5].visible = 0\n",
    "ctc_layout.shape[1].visible = 0\n",
    "ctc_layout.shape[2].visible = 0\n",
    "\n",
    "\n",
    "btn0 = Button(ctc_layout.shape[6].seq[2], \"Area 2a\",  angle=deg2rad(79.46-90))\n",
    "btn1 = Button(ctc_layout.shape[7].seq[0], \"Area 1a\",  angle=deg2rad(-29.584000000000003+90))\n",
    "btn2 = Button(ctc_layout.shape[8].seq[2], \"Area 2b\",  angle=deg2rad(-25.83))\n",
    "btn3 = Button(ctc_layout.shape[9].seq[2], \"Area 2c\",  angle=deg2rad(3.63)) \n",
    "btn4 = Button(ctc_layout.shape[10].seq[2], \"Area 2d\", angle=deg2rad(-20.1229))\n",
    "btn5 = Button(ctc_layout.shape[11].seq[2], \"Area 1d\", angle=deg2rad(-23.329))\n",
    "btn6 = Button(ctc_layout.shape[12].seq[1], \"Area 1b\", angle=deg2rad(0))\n",
    "btn7 = Button(ctc_layout.shape[13].seq[1], \"Area 1c\", angle=deg2rad(0))\n",
    "\n",
    "\n",
    "ground0 = Ground(0, offsetX=ctc_layout.shape[0].seq[17].x, offsetY=ctc_layout.shape[0].seq[17].y, offsetZ=0, angle=deg2rad(-10.54), button=btn0, height=620, width=1040);\n",
    "ground1 = Ground(0, offsetX=ctc_layout.shape[14].seq[2].x, offsetY=ctc_layout.shape[14].seq[2].y, offsetZ=0, angle=deg2rad(3.63), height=750, width=1080, button=btn3)\n",
    "ground2 = Ground(0, offsetX=ctc_layout.shape[15].seq[2].x, offsetY=ctc_layout.shape[15].seq[2].y, height=760, width=1080, offsetZ=0, angle=deg2rad(-25.83), button=btn2)\n",
    "ground3 = Ground(0, offsetX=ctc_layout.shape[16].seq[2].x, offsetY=ctc_layout.shape[16].seq[2].y, height=680, width=1040, offsetZ=0, angle=deg2rad(-20.1229), button=btn4)\n",
    "ground4 = Ground(0, offsetX=ctc_layout.shape[11].seq[0].x, offsetY=ctc_layout.shape[11].seq[0].y, height=1500, width=1300, offsetZ=0, angle=deg2rad(-29.584), button=btn1)\n",
    "ground6 = Ground(0, offsetX=ctc_layout.shape[5].seq[0].x, offsetY=ctc_layout.shape[5].seq[0].y, height=320, width=700, offsetZ=0, angle=deg2rad(-23.329), button=btn5)\n",
    "\n",
    "# # add warehouse here\n",
    "# h1 = House(0, \"house 1\", ctc_layout.shape[2],0,2,200,0.05235987755982988)\n",
    "# h2 = House(0, \"house 2\", ctc_layout.shape[3],0,2,200,0.05235987755982988)\n",
    "# h3 = House(0, \"house 3\", ctc_layout.shape[4],0,2,200,0.05235987755982988)\n",
    "# h4 = House(0, \"house 4\", ctc_layout.shape[5],0,2,200,0.05235987755982988)\n",
    "# h5 = House(0, \"house 5\", ctc_layout.shape[7],0,2,200,0.05235987755982988)\n",
    "# h6 = House(0, \"house 6\", ctc_layout.shape[8],0,2,200,0.05235987755982988)\n",
    "# h7 = House(0, \"house 7\", ctc_layout.shape[9],0,2,200,0.05235987755982988)\n",
    "# h8 = House(0, \"house 8\", ctc_layout.shape[10],0,2,200,0.05235987755982988)\n",
    "# h9 = House(0, \"house 9\", ctc_layout.shape[11],0,2,200,0.05235987755982988)\n",
    "# h10 = House(0, \"house 10\", ctc_layout.shape[12],0,2,200,0.05235987755982988)\n",
    "# h11 = House(0, \"house 11\", ctc_layout.shape[13],0,2,200,0.05235987755982988)\n",
    "# ruaCont = House(2, \"Rua container\", ctc_layout.shape[4],3,1,20, offsetX=34, offsetY=-74)\n",
    "ctc = Depot(\"Chân Thật Tiên Sa Depot\", ctc_layout, ground=[ground0, ground1, ground2, ground3, ground4], house=[], container_scale=2.74, scale=0.4, defaultGround=4)\n",
    "# etd = Depot(\"etd\", ctc_layout, ground=[ground1, ground2], offset=Point(-450,300), house=[wh1, wh2, wh3, ruaCont],container_scale=4.25, scale=0.4)"
   ]
  },
  {
   "cell_type": "code",
   "execution_count": 190,
   "metadata": {},
   "outputs": [],
   "source": [
    "jn = (depotEncoder().encode(ctc))\n",
    "ofile = open(outfile, \"w\")\n",
    "ofile.write(jn)\n",
    "ofile.close()"
   ]
  }
 ],
 "metadata": {
  "kernelspec": {
   "display_name": "Python 3.10.4 ('base')",
   "language": "python",
   "name": "python3"
  },
  "language_info": {
   "codemirror_mode": {
    "name": "ipython",
    "version": 3
   },
   "file_extension": ".py",
   "mimetype": "text/x-python",
   "name": "python",
   "nbconvert_exporter": "python",
   "pygments_lexer": "ipython3",
   "version": "3.10.4"
  },
  "orig_nbformat": 4,
  "vscode": {
   "interpreter": {
    "hash": "3b392867d34c15fd81efc0e6e696e723f38c9c666be2e1ec9dc6fdb1e725f84e"
   }
  }
 },
 "nbformat": 4,
 "nbformat_minor": 2
}
