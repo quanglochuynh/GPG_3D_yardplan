{
 "cells": [
  {
   "cell_type": "code",
   "execution_count": 1,
   "metadata": {},
   "outputs": [],
   "source": [
    "import sys\n",
    "sys.path.append(\"/Users/lochuynhquang/Documents/GPG_3D_yardplan/yardplan_creator\")\n",
    "from gpg import *\n",
    "\n",
    "outfile = \"./cpd.json\""
   ]
  },
  {
   "cell_type": "code",
   "execution_count": 2,
   "metadata": {},
   "outputs": [
    {
     "data": {
      "text/plain": [
       "-0.013788101090755562"
      ]
     },
     "execution_count": 2,
     "metadata": {},
     "output_type": "execute_result"
    }
   ],
   "source": [
    "((359.21-360)/360)*(2*math.pi)"
   ]
  },
  {
   "cell_type": "code",
   "execution_count": 3,
   "metadata": {},
   "outputs": [],
   "source": [
    "cpd_layout = Layout(\"./cpd.svg\")\n",
    "cpd_layout.scale(cox=1.25, coy=1.25)\n",
    "# cpd_layout.translate(-400, -1700)\n",
    "\n",
    "cpd_layout.shape[1].visible = 0.2\n",
    "cpd_layout.shape[2].visible = 0.2\n",
    "# cpd_layout.shape[12].visible = 0.2\n",
    "# #button\n",
    "# cpd_layout.shape[13].visible = 0\n",
    "# cpd_layout.shape[14].visible = 0\n",
    "# #house\n",
    "# cpd_layout.shape[3].visible = 0\n",
    "# cpd_layout.shape[4].visible = 0\n",
    "# cpd_layout.shape[5].visible = 0\n",
    "# cpd_layout.shape[6].visible = 0\n",
    "# cpd_layout.shape[7].visible = 0\n",
    "# cpd_layout.shape[8].visible = 0\n",
    "# cpd_layout.shape[9].visible = 0\n",
    "# cpd_layout.shape[10].visible = 0\n",
    "# cpd_layout.shape[11].visible = 0\n",
    "\n",
    "btn0 = Button(cpd_layout.shape[1].seq[1], \"Area 1\", angle=-0.013788101090755562);\n",
    "# btn1 = Button(cpd_layout.shape[13].seq[2], \"Area 2\", angle=-0.1218239817892045);\n",
    "# btn2 = Button(cpd_layout.shape[16].seq[3], \"Area 1c\", angle=0.18448130193580065);\n",
    "# btn3 = Button(cpd_layout.shape[17].seq[3], \"Area 1d\", angle=-0.1095892237327239 + math.pi/2);\n",
    "# btn4 = Button(cpd_layout.shape[18].seq[1], \"Area 2a\", angle=0.05462880558742251);\n",
    "# btn6 = Button(cpd_layout.shape[20].seq[1], \"Area 2c\", angle=-1.4809118703171884);\n",
    "\n",
    "ground0 = Ground(1,4, offsetX=cpd_layout.shape[1].seq[0].x, offsetY=cpd_layout.shape[1].seq[0].y, offsetZ=0, angle=-0.013788101090755562, button=btn0, height=400, width=1080);\n",
    "# ground1 = Ground(1,3, offsetX=cpd_layout.shape[1].seq[2].x, offsetY=cpd_layout.shape[1].seq[2].y, offsetZ=0, angle=-0.1218239817892045, height=640, width=340, button=btn1)\n",
    "# ground2 = Ground(1,0, offsetX=cpd_layout.shape[1].seq[3].x, offsetY=cpd_layout.shape[1].seq[3].y, height=840, width=1080, offsetZ=0, angle=0.18448130193580065, button=btn2)\n",
    "# ground3 = Ground(1,0, offsetX=cpd_layout.shape[1].seq[1].x+20, offsetY=cpd_layout.shape[1].seq[1].y-135, height=1040, width=1140, offsetZ=0, angle=-0.1095892237327239, button=btn3)\n",
    "# ground4 = Ground(2,0, offsetX=cpd_layout.shape[2].seq[0].x, offsetY=cpd_layout.shape[2].seq[0].y, height=300, width=700, offsetZ=0, angle=0.05462880558742251, button=btn4)\n",
    "# ground6 = Ground(2,0, offsetX=cpd_layout.shape[2].seq[0].x, offsetY=cpd_layout.shape[2].seq[0].y, height=320, width=700, offsetZ=0, angle=0.08988445647770797, button=btn6)\n",
    "\n",
    "# # add warehouse here\n",
    "h1 = House(0, \"house 1\", cpd_layout.shape[2],0,2,200,0.05235987755982988)\n",
    "h2 = House(0, \"house 2\", cpd_layout.shape[3],0,2,200,0.05235987755982988)\n",
    "h3 = House(0, \"house 3\", cpd_layout.shape[4],0,2,200,0.05235987755982988)\n",
    "h4 = House(0, \"house 4\", cpd_layout.shape[5],0,2,200,0.05235987755982988)\n",
    "# h5 = House(0, \"house 5\", cpd_layout.shape[7],0,2,200,0.05235987755982988)\n",
    "# h6 = House(0, \"house 6\", cpd_layout.shape[8],0,2,200,0.05235987755982988)\n",
    "# h7 = House(0, \"house 7\", cpd_layout.shape[9],0,2,200,0.05235987755982988)\n",
    "# h8 = House(0, \"house 8\", cpd_layout.shape[10],0,2,200,0.05235987755982988)\n",
    "# h9 = House(0, \"house 9\", cpd_layout.shape[11],0,2,200,0.05235987755982988)\n",
    "# h10 = House(0, \"house 10\", cpd_layout.shape[12],0,2,200,0.05235987755982988)\n",
    "# h11 = House(0, \"house 11\", cpd_layout.shape[13],0,2,200,0.05235987755982988)\n",
    "# ruaCont = House(2, \"Rua container\", cpd_layout.shape[4],3,1,20, offsetX=34, offsetY=-74)\n",
    "cld = Depot(\"Chân Thật Phú Thuận Depot\", cpd_layout, ground=[ground0], house=[h1,h2,h3,h4], container_scale=1.15, scale=0.4)\n",
    "# etd = Depot(\"etd\", cpd_layout, ground=[ground1, ground2], offset=Point(-450,300), house=[wh1, wh2, wh3, ruaCont],container_scale=4.25, scale=0.4)"
   ]
  },
  {
   "cell_type": "code",
   "execution_count": 4,
   "metadata": {},
   "outputs": [],
   "source": [
    "jn = (depotEncoder().encode(cld))\n",
    "ofile = open(outfile, \"w\")\n",
    "ofile.write(jn)\n",
    "ofile.close()"
   ]
  }
 ],
 "metadata": {
  "kernelspec": {
   "display_name": "Python 3.10.4 ('base')",
   "language": "python",
   "name": "python3"
  },
  "language_info": {
   "codemirror_mode": {
    "name": "ipython",
    "version": 3
   },
   "file_extension": ".py",
   "mimetype": "text/x-python",
   "name": "python",
   "nbconvert_exporter": "python",
   "pygments_lexer": "ipython3",
   "version": "3.10.4"
  },
  "orig_nbformat": 4,
  "vscode": {
   "interpreter": {
    "hash": "3b392867d34c15fd81efc0e6e696e723f38c9c666be2e1ec9dc6fdb1e725f84e"
   }
  }
 },
 "nbformat": 4,
 "nbformat_minor": 2
}
