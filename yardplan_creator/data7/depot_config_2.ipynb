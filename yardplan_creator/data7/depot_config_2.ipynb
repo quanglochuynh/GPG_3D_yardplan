{
 "cells": [
  {
   "cell_type": "code",
   "execution_count": 165,
   "metadata": {},
   "outputs": [],
   "source": [
    "import sys\n",
    "sys.path.append(\"/Users/lochuynhquang/Documents/GPG_3D_yardplan/\")\n",
    "from gpg import *\n",
    "\n",
    "outfile = \"./tkd.json\""
   ]
  },
  {
   "cell_type": "code",
   "execution_count": 166,
   "metadata": {},
   "outputs": [
    {
     "data": {
      "text/plain": [
       "-0.013788101090755562"
      ]
     },
     "execution_count": 166,
     "metadata": {},
     "output_type": "execute_result"
    }
   ],
   "source": [
    "((359.21-360)/360)*(2*math.pi)"
   ]
  },
  {
   "cell_type": "code",
   "execution_count": 167,
   "metadata": {},
   "outputs": [],
   "source": [
    "tkd_layout = Layout(\"./tkd.svg\")\n",
    "tkd_layout.scale(cox=1.25, coy=1.25)\n",
    "\n",
    "# #button\n",
    "tkd_layout.shape[4].visible = 0\n",
    "\n",
    "\n",
    "btn0 = Button(tkd_layout.shape[0].seq[3], \"Area 1\", angle=0);\n",
    "\n",
    "ground0 = Ground(0, offsetX=tkd_layout.shape[4].seq[2].x, offsetY=tkd_layout.shape[4].seq[2].y, offsetZ=0, angle=0, button=btn0, height=660, width=1840);\n",
    "\n",
    "# # add warehouse here\n",
    "h1 = House(0, \"house 1\", tkd_layout.shape[1],height=200)\n",
    "h2 = House(0, \"house 2\", tkd_layout.shape[2],height=200)\n",
    "h3 = House(0, \"house 3\", tkd_layout.shape[3],height=200)\n",
    "\n",
    "tkd = Depot(\"Trapang Krasang Depot\", tkd_layout, ground=[ground0], house=[h1,h2,h3], container_scale=2.65)"
   ]
  },
  {
   "cell_type": "code",
   "execution_count": 168,
   "metadata": {},
   "outputs": [],
   "source": [
    "jn = (depotEncoder().encode(tkd))\n",
    "ofile = open(outfile, \"w\")\n",
    "ofile.write(jn)\n",
    "ofile.close()"
   ]
  }
 ],
 "metadata": {
  "kernelspec": {
   "display_name": "Python 3.10.4 ('base')",
   "language": "python",
   "name": "python3"
  },
  "language_info": {
   "codemirror_mode": {
    "name": "ipython",
    "version": 3
   },
   "file_extension": ".py",
   "mimetype": "text/x-python",
   "name": "python",
   "nbconvert_exporter": "python",
   "pygments_lexer": "ipython3",
   "version": "3.10.4"
  },
  "orig_nbformat": 4,
  "vscode": {
   "interpreter": {
    "hash": "3b392867d34c15fd81efc0e6e696e723f38c9c666be2e1ec9dc6fdb1e725f84e"
   }
  }
 },
 "nbformat": 4,
 "nbformat_minor": 2
}
